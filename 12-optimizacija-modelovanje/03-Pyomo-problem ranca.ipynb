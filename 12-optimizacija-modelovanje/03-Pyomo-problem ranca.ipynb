{
 "cells": [
  {
   "cell_type": "markdown",
   "metadata": {},
   "source": [
    "# Pyomo -  problem ranca"
   ]
  },
  {
   "cell_type": "markdown",
   "metadata": {},
   "source": [
    "Problem čijim ćemo se rešavanjem baviti u ovoj svesci je takozvani `problem ranca` (engl. knapsack problem) u kojem je cilj iz skupa objekata zadate težine i vrednosti odabrati one čija se težina uklapa u kapacitete ranca ali tako da je ukupna vrednost najveća moguća. Ovaj zadatak se sreće u mnogim varijantama i spada u domen kombinatorne optimizacije. Može se rešavati korišćenjem dinamičkog programiranja, tehnikom *branch-and-bound* i drugima. Mi ćemo ga rešiti produbljivanjem mogućnosti Pyomo biblioteke. "
   ]
  },
  {
   "cell_type": "markdown",
   "metadata": {},
   "source": [
    "Varijanta problema koju ćemo posmatrati je takozvani `0-1 problem` u kojem se objekat u rancu može javiti najviše jednom. Naime, ako sa $i$, $i \\in \\{1, 2, ..., N\\}$ obeležimo indekse objekata čije su vrednosti $v_i$ i težine $w_i$, problem koji treba rešiti je $$max \\sum_{i=1}^{N}{v_ix_i}$$ uz uslove $ \\sum_{i=1}^{N}{w_ix_i}\\lt W$ i $x_i \\in \\{0, 1\\}$ za $i \\in \\{1, 2, ..., N\\}$ gde $W$ predstavlja kapacitet ranca."
   ]
  },
  {
   "cell_type": "code",
   "execution_count": null,
   "metadata": {},
   "outputs": [],
   "source": []
  },
  {
   "cell_type": "code",
   "execution_count": 1,
   "metadata": {},
   "outputs": [],
   "source": [
    "from pyomo.environ import *"
   ]
  },
  {
   "cell_type": "code",
   "execution_count": null,
   "metadata": {},
   "outputs": [],
   "source": []
  },
  {
   "cell_type": "markdown",
   "metadata": {},
   "source": [
    "Pretpostavimo da treba spakovati ranac za letnju pauzu. Na raspolaganju su predmeti šešir, naočare, knjiga, peškir i oprema za ronjenje čije su vrednosti redom 2, 8, 3, 4, i 10, a težine redom 1, 1, 2, 3, i 6. Ako je kapacitet ranca 9 kilograma, koje predmete treba izabrati?  <img src='assets/knapsack_problem.png'>"
   ]
  },
  {
   "cell_type": "code",
   "execution_count": null,
   "metadata": {},
   "outputs": [],
   "source": []
  },
  {
   "cell_type": "markdown",
   "metadata": {},
   "source": [
    "Izdvojićemo informacije navedene uslovima zadatka u posebne liste."
   ]
  },
  {
   "cell_type": "code",
   "execution_count": 2,
   "metadata": {},
   "outputs": [],
   "source": [
    "items = ['hat', 'sunglasses', 'book', 'towel', 'snorkeling kit']\n",
    "values = {'hat':2, 'sunglasses':8, 'book':3, 'towel':4, 'snorkeling kit': 10}\n",
    "weights = {'hat':1, 'sunglasses':1, 'book':2, 'towel':3, 'snorkeling kit': 6}\n",
    "max_weight = 9"
   ]
  },
  {
   "cell_type": "code",
   "execution_count": null,
   "metadata": {},
   "outputs": [],
   "source": []
  },
  {
   "cell_type": "markdown",
   "metadata": {},
   "source": [
    "Potom ćemo kreirati model pozivom funkcije `ConcreteModel`."
   ]
  },
  {
   "cell_type": "code",
   "execution_count": 3,
   "metadata": {},
   "outputs": [],
   "source": [
    "model = ConcreteModel()"
   ]
  },
  {
   "cell_type": "code",
   "execution_count": null,
   "metadata": {},
   "outputs": [],
   "source": []
  },
  {
   "cell_type": "markdown",
   "metadata": {},
   "source": [
    "Pošto u opštem slučaju broj raspoloživih predmeta može da bude jako veliki, nije zahvalno kreirati pojedinačne promenljive za pojedinačne predmete. Zato ćemo koristiti takozvane `indeksirane promenljive` (engl. indexed variables) koje svakoj vrednosti skupa indeksa pridružuju po jednu promenljivu. Blokom koda koji je naveden niže će za svaku vrednost liste predmeta *items* kreirati po jedna promenljiva *x* modela. Pošto promenljive mogu imati samo vrednost 0 ili 1, prilikom kreiranja postavićemo i da je njihov domen vrednost `Binary`."
   ]
  },
  {
   "cell_type": "code",
   "execution_count": 4,
   "metadata": {},
   "outputs": [],
   "source": [
    "model.x = Var(items, domain=Binary)"
   ]
  },
  {
   "cell_type": "markdown",
   "metadata": {},
   "source": [
    "Na primer, promenljivoj koja odgovara indeksu *book* možemo pristupiti na sledeći način:"
   ]
  },
  {
   "cell_type": "code",
   "execution_count": 5,
   "metadata": {},
   "outputs": [
    {
     "data": {
      "text/plain": [
       "<pyomo.core.base.var._GeneralVarData at 0x11d7fd590>"
      ]
     },
     "execution_count": 5,
     "metadata": {},
     "output_type": "execute_result"
    }
   ],
   "source": [
    "model.x['book']"
   ]
  },
  {
   "cell_type": "code",
   "execution_count": null,
   "metadata": {},
   "outputs": [],
   "source": []
  },
  {
   "cell_type": "markdown",
   "metadata": {},
   "source": [
    "Dalje ćemo zapisati ciljnu funkciju. Za formiranje izraza koristićemo Pyomo formu *list comprehension* konstrukcije i sumiranje nad dobijenim vrednostima."
   ]
  },
  {
   "cell_type": "code",
   "execution_count": 6,
   "metadata": {},
   "outputs": [],
   "source": [
    "model.value = Objective(expr=sum(values[item]*model.x[item] for item in items), sense=maximize)"
   ]
  },
  {
   "cell_type": "code",
   "execution_count": null,
   "metadata": {},
   "outputs": [],
   "source": []
  },
  {
   "cell_type": "markdown",
   "metadata": {},
   "source": [
    "Na sličan način zapisaćemo i ograničenje koje se odnosi na težinu objekata u rancu."
   ]
  },
  {
   "cell_type": "code",
   "execution_count": 7,
   "metadata": {},
   "outputs": [],
   "source": [
    "model.weight = Constraint(expr=sum(weights[item]*model.x[item] for item in items ) <= max_weight)"
   ]
  },
  {
   "cell_type": "code",
   "execution_count": null,
   "metadata": {},
   "outputs": [],
   "source": []
  },
  {
   "cell_type": "markdown",
   "metadata": {},
   "source": [
    "Konstruisani model ćemo ispisati funkcijom `pprint`."
   ]
  },
  {
   "cell_type": "code",
   "execution_count": 8,
   "metadata": {},
   "outputs": [
    {
     "name": "stdout",
     "output_type": "stream",
     "text": [
      "1 Set Declarations\n",
      "    x_index : Size=1, Index=None, Ordered=Insertion\n",
      "        Key  : Dimen : Domain : Size : Members\n",
      "        None :     1 :    Any :    5 : {'hat', 'sunglasses', 'book', 'towel', 'snorkeling kit'}\n",
      "\n",
      "1 Var Declarations\n",
      "    x : Size=5, Index=x_index\n",
      "        Key            : Lower : Value : Upper : Fixed : Stale : Domain\n",
      "                  book :     0 :  None :     1 : False :  True : Binary\n",
      "                   hat :     0 :  None :     1 : False :  True : Binary\n",
      "        snorkeling kit :     0 :  None :     1 : False :  True : Binary\n",
      "            sunglasses :     0 :  None :     1 : False :  True : Binary\n",
      "                 towel :     0 :  None :     1 : False :  True : Binary\n",
      "\n",
      "1 Objective Declarations\n",
      "    value : Size=1, Index=None, Active=True\n",
      "        Key  : Active : Sense    : Expression\n",
      "        None :   True : maximize : 2*x[hat] + 8*x[sunglasses] + 3*x[book] + 4*x[towel] + 10*x[snorkeling kit]\n",
      "\n",
      "1 Constraint Declarations\n",
      "    weight : Size=1, Index=None, Active=True\n",
      "        Key  : Lower : Body                                                                  : Upper : Active\n",
      "        None :  -Inf : x[hat] + x[sunglasses] + 2*x[book] + 3*x[towel] + 6*x[snorkeling kit] :   9.0 :   True\n",
      "\n",
      "4 Declarations: x_index x value weight\n"
     ]
    }
   ],
   "source": [
    "model.pprint()"
   ]
  },
  {
   "cell_type": "code",
   "execution_count": null,
   "metadata": {},
   "outputs": [],
   "source": []
  },
  {
   "cell_type": "markdown",
   "metadata": {},
   "source": [
    "Dalje ćemo rešiti problem korišćenjem GLPK rešavača i ispisati dobijene rezultate."
   ]
  },
  {
   "cell_type": "code",
   "execution_count": 9,
   "metadata": {},
   "outputs": [],
   "source": [
    "solver = SolverFactory('glpk')"
   ]
  },
  {
   "cell_type": "code",
   "execution_count": 10,
   "metadata": {},
   "outputs": [],
   "source": [
    "result = solver.solve(model)"
   ]
  },
  {
   "cell_type": "code",
   "execution_count": 11,
   "metadata": {},
   "outputs": [
    {
     "name": "stdout",
     "output_type": "stream",
     "text": [
      "Status:  ok\n"
     ]
    }
   ],
   "source": [
    "print('Status: ', result.solver.status)"
   ]
  },
  {
   "cell_type": "code",
   "execution_count": null,
   "metadata": {},
   "outputs": [],
   "source": []
  },
  {
   "cell_type": "markdown",
   "metadata": {},
   "source": [
    "Vrednosti indeksiranih promenljivih `x` možemo dobiti pozivom funkcije `get_values`, a zatim ih, korišćenjem odgovarajućih indeksa možemo i ispisati. "
   ]
  },
  {
   "cell_type": "code",
   "execution_count": 12,
   "metadata": {},
   "outputs": [
    {
     "name": "stdout",
     "output_type": "stream",
     "text": [
      "Objekat hat - 0.0\n",
      "Objekat sunglasses - 1.0\n",
      "Objekat book - 1.0\n",
      "Objekat towel - 0.0\n",
      "Objekat snorkeling kit - 1.0\n"
     ]
    }
   ],
   "source": [
    "x = model.x.get_values()\n",
    "for item in items: \n",
    "    print ('Objekat {0} - {1}'.format(item, x[item]))"
   ]
  },
  {
   "cell_type": "code",
   "execution_count": 13,
   "metadata": {},
   "outputs": [
    {
     "name": "stdout",
     "output_type": "stream",
     "text": [
      "Ukupna tezina objekata u rancu:  9.0\n"
     ]
    }
   ],
   "source": [
    "print('Ukupna tezina objekata u rancu: ', model.weight())"
   ]
  },
  {
   "cell_type": "code",
   "execution_count": 14,
   "metadata": {},
   "outputs": [
    {
     "name": "stdout",
     "output_type": "stream",
     "text": [
      "Ukupna vrednost objekata u rancu:  21.0\n"
     ]
    }
   ],
   "source": [
    "print('Ukupna vrednost objekata u rancu: ', model.value())"
   ]
  },
  {
   "cell_type": "code",
   "execution_count": null,
   "metadata": {},
   "outputs": [],
   "source": []
  }
 ],
 "metadata": {
  "kernelspec": {
   "display_name": "Python 3",
   "language": "python",
   "name": "python3"
  },
  "language_info": {
   "codemirror_mode": {
    "name": "ipython",
    "version": 3
   },
   "file_extension": ".py",
   "mimetype": "text/x-python",
   "name": "python",
   "nbconvert_exporter": "python",
   "pygments_lexer": "ipython3",
   "version": "3.8.3"
  }
 },
 "nbformat": 4,
 "nbformat_minor": 5
}
