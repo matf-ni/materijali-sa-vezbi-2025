{
 "cells": [
  {
   "cell_type": "markdown",
   "metadata": {},
   "source": [
    "# Problem raspoređivanja"
   ]
  },
  {
   "cell_type": "markdown",
   "metadata": {},
   "source": [
    "U ovoj svesci rešavaćemo jedan problem raspoređivanja."
   ]
  },
  {
   "cell_type": "markdown",
   "metadata": {},
   "source": [
    "U susedstvu se otvara nova prodavnica koja će biti otvorena 24 sata dnevno, 7 dana u nedelji. Da bi se pokrio obim posla, radnici će raditi u tri smene u trajanju po osam sati. Jutarnja smena je od 6:00 do 14:00, poslepodnevna smena je od 14:00 do 22:00, a noćna smena je od 22:00 do 6:00 sledećeg dana.\n",
    "\n",
    "Za vreme noćne smene potreban je jedan radnik, dok su za rad u dnevnim smenama potrebna po dva radnika. Izuzetak je nedelja, kada je i u dnevnim smenama potreban po jedan radnik. Svaki radnik ima opterećenje od najviše 40 sati nedeljno i treba da se odmori barem 12 sati između dveju smena. Radnici koji ne rade nedeljom preferiraju da imaju i slobodnu subotu. \n",
    "\n",
    "Menadžeru koji treba da napravi raspored je na raspolaganju 10 radnika. Potrebno je da napravi optimalni raspored koji prati navedena ograničenja sa što manjim brojem radnika kako bi preostali radnici mogli da pomognu u drugim prodavnicama."
   ]
  },
  {
   "cell_type": "code",
   "execution_count": 1,
   "metadata": {},
   "outputs": [],
   "source": [
    "import json"
   ]
  },
  {
   "cell_type": "code",
   "execution_count": 2,
   "metadata": {},
   "outputs": [],
   "source": [
    "from pyomo.environ import *"
   ]
  },
  {
   "cell_type": "code",
   "execution_count": null,
   "metadata": {},
   "outputs": [],
   "source": []
  },
  {
   "cell_type": "markdown",
   "metadata": {},
   "source": [
    "Prvo ćemo izdvojiti podatke koji se tiču same formulacije problema. Lista `days` će sadržati imena radnih dana, lista `shifts` će sadržati imena smena, a rečnik `days_shift` njihovu kombinaciju. "
   ]
  },
  {
   "cell_type": "code",
   "execution_count": null,
   "metadata": {},
   "outputs": [],
   "source": []
  },
  {
   "cell_type": "code",
   "execution_count": 3,
   "metadata": {},
   "outputs": [],
   "source": [
    "days = ['Mon', 'Tue', 'Wed', 'Thu', 'Fri', 'Sat', 'Sun']\n",
    "shifts = ['morning', 'evening', 'night']\n",
    "\n",
    "# ime dana je kljuc recnika, a lista smena vrednost\n",
    "days_shifts = {day: shifts for day in days} "
   ]
  },
  {
   "cell_type": "code",
   "execution_count": 4,
   "metadata": {},
   "outputs": [
    {
     "data": {
      "text/plain": [
       "{'Mon': ['morning', 'evening', 'night'],\n",
       " 'Tue': ['morning', 'evening', 'night'],\n",
       " 'Wed': ['morning', 'evening', 'night'],\n",
       " 'Thu': ['morning', 'evening', 'night'],\n",
       " 'Fri': ['morning', 'evening', 'night'],\n",
       " 'Sat': ['morning', 'evening', 'night'],\n",
       " 'Sun': ['morning', 'evening', 'night']}"
      ]
     },
     "execution_count": 4,
     "metadata": {},
     "output_type": "execute_result"
    }
   ],
   "source": [
    "days_shifts"
   ]
  },
  {
   "cell_type": "markdown",
   "metadata": {},
   "source": [
    "Informacije o raspoloživim radnicima ćemo čuvati na nivou liste `workers`."
   ]
  },
  {
   "cell_type": "code",
   "execution_count": 5,
   "metadata": {},
   "outputs": [],
   "source": [
    "number_of_workers = 10\n",
    "workers = ['W' + str(i+1) for i in range(0, number_of_workers)]"
   ]
  },
  {
   "cell_type": "code",
   "execution_count": 6,
   "metadata": {},
   "outputs": [
    {
     "data": {
      "text/plain": [
       "['W1', 'W2', 'W3', 'W4', 'W5', 'W6', 'W7', 'W8', 'W9', 'W10']"
      ]
     },
     "execution_count": 6,
     "metadata": {},
     "output_type": "execute_result"
    }
   ],
   "source": [
    "workers"
   ]
  },
  {
   "cell_type": "code",
   "execution_count": null,
   "metadata": {},
   "outputs": [],
   "source": []
  },
  {
   "cell_type": "markdown",
   "metadata": {},
   "source": [
    "Dalje ćemo kreirati model. "
   ]
  },
  {
   "cell_type": "code",
   "execution_count": 7,
   "metadata": {},
   "outputs": [],
   "source": [
    "model = ConcreteModel()"
   ]
  },
  {
   "cell_type": "code",
   "execution_count": null,
   "metadata": {},
   "outputs": [],
   "source": []
  },
  {
   "cell_type": "markdown",
   "metadata": {},
   "source": [
    "Promenljive `works` će biti indeksirane identifikatorima radnika, imenima dana i imenima smena i imaće binarnu vrednost. Vrednost `0` će označavati da izdvojeni radnik nije raspoređen za rad u smeni u određenom danu (to će biti i početna vrednost promenljivih), dok će vrednost `1` označavati da je radnik raspoređen za rad."
   ]
  },
  {
   "cell_type": "code",
   "execution_count": 8,
   "metadata": {},
   "outputs": [],
   "source": [
    "model.works = Var(((worker, day, shift) for worker in workers for day in days for shift in days_shifts[day]), within=Binary, initialize=0)"
   ]
  },
  {
   "cell_type": "code",
   "execution_count": 9,
   "metadata": {},
   "outputs": [
    {
     "data": {
      "text/plain": [
       "0"
      ]
     },
     "execution_count": 9,
     "metadata": {},
     "output_type": "execute_result"
    }
   ],
   "source": [
    "model.works['W1', 'Mon', 'morning'].value"
   ]
  },
  {
   "cell_type": "code",
   "execution_count": null,
   "metadata": {},
   "outputs": [],
   "source": []
  },
  {
   "cell_type": "markdown",
   "metadata": {},
   "source": [
    "Promenljive `needed` će označavati da li je radnik neophodan za rad u smeni. Ove promenljive biće indeksirane identifikatorima radnika sa, takođe, binarnim vrednostima i nulom kao početnom vrednošću."
   ]
  },
  {
   "cell_type": "code",
   "execution_count": 10,
   "metadata": {},
   "outputs": [],
   "source": [
    "model.needed = Var(workers, within=Binary, initialize=0)"
   ]
  },
  {
   "cell_type": "code",
   "execution_count": 11,
   "metadata": {},
   "outputs": [
    {
     "data": {
      "text/plain": [
       "0"
      ]
     },
     "execution_count": 11,
     "metadata": {},
     "output_type": "execute_result"
    }
   ],
   "source": [
    "model.needed['W1'].value"
   ]
  },
  {
   "cell_type": "code",
   "execution_count": null,
   "metadata": {},
   "outputs": [],
   "source": []
  },
  {
   "cell_type": "markdown",
   "metadata": {},
   "source": [
    "Promenljive `no_pref` će pratiti aktivnosti radnika u toku vikenda. Takođe će biti binarnih vrednosti, sa vrednošću `1` ukoliko nije ispoštovana preferencija radnika tj. ako radnik radi u nedelju, ali ne i u subotu. Probaćemo da izbegnemo ovakve scenarije."
   ]
  },
  {
   "cell_type": "code",
   "execution_count": 12,
   "metadata": {},
   "outputs": [],
   "source": [
    "model.no_pref = Var(workers, within=Binary, initialize=0)"
   ]
  },
  {
   "cell_type": "code",
   "execution_count": 13,
   "metadata": {},
   "outputs": [
    {
     "data": {
      "text/plain": [
       "0"
      ]
     },
     "execution_count": 13,
     "metadata": {},
     "output_type": "execute_result"
    }
   ],
   "source": [
    "model.no_pref['W1'].value"
   ]
  },
  {
   "cell_type": "code",
   "execution_count": null,
   "metadata": {},
   "outputs": [],
   "source": []
  },
  {
   "cell_type": "markdown",
   "metadata": {},
   "source": [
    "Ciljna funkcija će pratiti broj potrebnih radnika, kao i raspored vikendom. Faktor koji se odnosi na broj potrebnih radnika je pomnožen konstantom koja treba da da veću težinu ovom uslovu optimizacije. Funkciju cilja je potrebno minimizovati."
   ]
  },
  {
   "cell_type": "code",
   "execution_count": 14,
   "metadata": {},
   "outputs": [],
   "source": [
    "def obj_rule(model):\n",
    "    return sum(model.no_pref[worker] for worker in workers) + 2*sum(model.needed[worker] for worker in workers)"
   ]
  },
  {
   "cell_type": "code",
   "execution_count": 15,
   "metadata": {},
   "outputs": [],
   "source": [
    "model.obj = Objective(rule=obj_rule, sense=minimize)"
   ]
  },
  {
   "cell_type": "code",
   "execution_count": null,
   "metadata": {},
   "outputs": [],
   "source": []
  },
  {
   "cell_type": "markdown",
   "metadata": {},
   "source": [
    "Zatim ćemo kreirati listu ograničenja. Za njeno kreiranje iskoristićemo funkciju `ConstraintList`, a za dodavanje pojedinačnih ograničenja funkciju `add`."
   ]
  },
  {
   "cell_type": "code",
   "execution_count": 16,
   "metadata": {},
   "outputs": [],
   "source": [
    "model.constraints = ConstraintList()"
   ]
  },
  {
   "cell_type": "markdown",
   "metadata": {},
   "source": [
    "Prva grupa ogrančenja se odnosi na pokrivenost svih smena."
   ]
  },
  {
   "cell_type": "code",
   "execution_count": 17,
   "metadata": {},
   "outputs": [],
   "source": [
    "for day in days:\n",
    "    for shift in days_shifts[day]:\n",
    "        # ako je u pitanju radni dan ili subota i prepodnevna ili poslepodnevna smena\n",
    "        # broj radnika u smeni treba da bude 2\n",
    "        if day in days[:-1] and shift in ['morning', 'evening']:\n",
    "            model.constraints.add(\n",
    "                2 == sum(model.works[worker, day, shift] for worker in workers)\n",
    "            )\n",
    "        else:\n",
    "            # nedeljom i u nocnoj smeni broj radnika treba da bude 1\n",
    "            model.constraints.add(\n",
    "                1 == sum(model.works[worker, day, shift] for worker in workers)\n",
    "            )"
   ]
  },
  {
   "cell_type": "code",
   "execution_count": null,
   "metadata": {},
   "outputs": [],
   "source": []
  },
  {
   "cell_type": "markdown",
   "metadata": {},
   "source": [
    "Druga grupa ograničenja se odnosi na radno vreme radnika - radnik ne radi više od 40 sati nedeljno."
   ]
  },
  {
   "cell_type": "code",
   "execution_count": 18,
   "metadata": {},
   "outputs": [],
   "source": [
    "for worker in workers:\n",
    "    model.constraints.add(\n",
    "        40 >= sum(8 * model.works[worker, day, shift] for day in days for shift in days_shifts[day])\n",
    "    )"
   ]
  },
  {
   "cell_type": "code",
   "execution_count": null,
   "metadata": {},
   "outputs": [],
   "source": []
  },
  {
   "cell_type": "markdown",
   "metadata": {},
   "source": [
    "Treća grupa ograničenje se tiče razmaka između dveju smena koji treba da bude barem 12 sati."
   ]
  },
  {
   "cell_type": "code",
   "execution_count": 19,
   "metadata": {},
   "outputs": [],
   "source": [
    "for worker in workers:\n",
    "    for j, day in enumerate(days):\n",
    "        \n",
    "        # radnik ne moze da radi u dvema smenama u istom danu\n",
    "        model.constraints.add(\n",
    "            1 >= sum(model.works[worker, day, shift] for shift in days_shifts[day])\n",
    "        )\n",
    "        # ako radnik radi poslepodnevnu ili nocnu smenu, ne moze da radi u prepodnevnoj smeni sledeceg dana\n",
    "        # praticemo i uslov da posle nedelje dolazi ponedeljak preko izraza (j+1)%7 \n",
    "        model.constraints.add(\n",
    "            1 >= sum(model.works[worker, days[j], shift] for shift in ['evening', 'night']) +\n",
    "            model.works[worker, days[(j + 1) % 7], 'morning']\n",
    "        )\n",
    "        # ako radnik radi nocnu smenu, ne moze da radi prepodnevnu ili poslepodnevnu smenu sledeceg dana\n",
    "        model.constraints.add(\n",
    "            1 >= model.works[worker, days[j], 'night'] +\n",
    "            sum(model.works[worker, days[(j + 1) % 7], shift] for shift in ['morning', 'evening'])\n",
    "        )"
   ]
  },
  {
   "cell_type": "code",
   "execution_count": null,
   "metadata": {},
   "outputs": [],
   "source": []
  },
  {
   "cell_type": "markdown",
   "metadata": {},
   "source": [
    "Četvrta grupa ograničenja se tiče potrebnosti radnika. "
   ]
  },
  {
   "cell_type": "code",
   "execution_count": 20,
   "metadata": {},
   "outputs": [],
   "source": [
    "# ako je vrednost model.works[worker, ·, ·] razlicita od nule, model.needed[worker] mora biti jedan\n",
    "# u usprotnom vrednost model.needed[worker] treba da bude nula zbog minimizacije funkcije cilja\n",
    "# jedan radnik radi najvise 40 sati tj. najvise 5 smena pa je zato iskoriscenja konstanta 5\n",
    "\n",
    "for worker in workers:\n",
    "    model.constraints.add(\n",
    "        5 * model.needed[worker] >= sum(model.works[worker, day, shift] for day in days for shift in days_shifts[day])\n",
    "    ) "
   ]
  },
  {
   "cell_type": "code",
   "execution_count": null,
   "metadata": {},
   "outputs": [],
   "source": []
  },
  {
   "cell_type": "markdown",
   "metadata": {},
   "source": [
    "Poslednja grupa ograničenja se tiče rada vikendom. Ako radnik ne radi u nedelju, poželjno je da ne radi ni u subotu."
   ]
  },
  {
   "cell_type": "code",
   "execution_count": 21,
   "metadata": {},
   "outputs": [],
   "source": [
    "for worker in workers:\n",
    "    model.constraints.add(\n",
    "        model.no_pref[worker] >= sum(model.works[worker, 'Sun', shift] for shift in days_shifts['Sun'])\n",
    "        - sum(model.works[worker, 'Sat', shift] for shift in days_shifts['Sat'])\n",
    "    )"
   ]
  },
  {
   "cell_type": "code",
   "execution_count": null,
   "metadata": {},
   "outputs": [],
   "source": []
  },
  {
   "cell_type": "markdown",
   "metadata": {},
   "source": [
    "Ukupan broj ograničenja koji je postavljen na nivou modela je: "
   ]
  },
  {
   "cell_type": "code",
   "execution_count": 22,
   "metadata": {},
   "outputs": [
    {
     "data": {
      "text/plain": [
       "261"
      ]
     },
     "execution_count": 22,
     "metadata": {},
     "output_type": "execute_result"
    }
   ],
   "source": [
    "len(model.constraints)"
   ]
  },
  {
   "cell_type": "markdown",
   "metadata": {},
   "source": [
    "Sam model je, takođe, vrlo kompleksan: "
   ]
  },
  {
   "cell_type": "code",
   "execution_count": 23,
   "metadata": {},
   "outputs": [],
   "source": [
    "# model.pprint()"
   ]
  },
  {
   "cell_type": "code",
   "execution_count": null,
   "metadata": {},
   "outputs": [],
   "source": []
  },
  {
   "cell_type": "markdown",
   "metadata": {},
   "source": [
    "Kako problem koji rešavamo predstavlja varijantu mešovitog celobrojnog programiranja, dovoljno je upotrebiti rešavač koji podržava rad sa ovom grupom problema. Mi ćemo iskoristiti GLPK rešavač. "
   ]
  },
  {
   "cell_type": "code",
   "execution_count": 24,
   "metadata": {},
   "outputs": [],
   "source": [
    "opt = SolverFactory('glpk')  \n",
    "results = opt.solve(model)  "
   ]
  },
  {
   "cell_type": "code",
   "execution_count": 25,
   "metadata": {},
   "outputs": [
    {
     "data": {
      "text/plain": [
       "<SolverStatus.ok: 'ok'>"
      ]
     },
     "execution_count": 25,
     "metadata": {},
     "output_type": "execute_result"
    }
   ],
   "source": [
    "results.solver.status"
   ]
  },
  {
   "cell_type": "code",
   "execution_count": 26,
   "metadata": {},
   "outputs": [
    {
     "name": "stdout",
     "output_type": "stream",
     "text": [
      "# ==========================================================\n",
      "# = Solver Results                                         =\n",
      "# ==========================================================\n",
      "# ----------------------------------------------------------\n",
      "#   Problem Information\n",
      "# ----------------------------------------------------------\n",
      "Problem: \n",
      "- Name: unknown\n",
      "  Lower bound: 14.0\n",
      "  Upper bound: 14.0\n",
      "  Number of objectives: 1\n",
      "  Number of constraints: 262\n",
      "  Number of variables: 231\n",
      "  Number of nonzeros: 1341\n",
      "  Sense: minimize\n",
      "# ----------------------------------------------------------\n",
      "#   Solver Information\n",
      "# ----------------------------------------------------------\n",
      "Solver: \n",
      "- Status: ok\n",
      "  Termination condition: optimal\n",
      "  Statistics: \n",
      "    Branch and bound: \n",
      "      Number of bounded subproblems: 1\n",
      "      Number of created subproblems: 1\n",
      "  Error rc: 0\n",
      "  Time: 0.016186952590942383\n",
      "# ----------------------------------------------------------\n",
      "#   Solution Information\n",
      "# ----------------------------------------------------------\n",
      "Solution: \n",
      "- number of solutions: 0\n",
      "  number of solutions displayed: 0\n"
     ]
    }
   ],
   "source": [
    "results.write()"
   ]
  },
  {
   "cell_type": "markdown",
   "metadata": {},
   "source": [
    "Sledeće funkcije će nam pomoći da izdvojimo informacije koje je generisao rešavač. "
   ]
  },
  {
   "cell_type": "markdown",
   "metadata": {},
   "source": [
    "Funkcije `get_workers_needed` izdvaja listu potrebnih radnika. "
   ]
  },
  {
   "cell_type": "code",
   "execution_count": 27,
   "metadata": {},
   "outputs": [],
   "source": [
    "def get_workers_needed(needed):\n",
    "    workers_needed = []\n",
    "    for worker in workers:\n",
    "        if needed[worker].value == 1:\n",
    "            workers_needed.append(worker)\n",
    "    return workers_needed"
   ]
  },
  {
   "cell_type": "code",
   "execution_count": null,
   "metadata": {},
   "outputs": [],
   "source": []
  },
  {
   "cell_type": "markdown",
   "metadata": {},
   "source": [
    "Funkcija `get_work_table` izdvaja raspored rada radnika. "
   ]
  },
  {
   "cell_type": "code",
   "execution_count": 28,
   "metadata": {},
   "outputs": [],
   "source": [
    "def get_work_table(works):\n",
    "    # raspored rada radnika ce biti u formi recnika\n",
    "    week_table = {day: {shift: [] for shift in days_shifts[day]} for day in days}\n",
    "    for worker in workers:\n",
    "        for day in days:\n",
    "            for shift in days_shifts[day]:\n",
    "                    if works[worker, day, shift].value == 1:\n",
    "                        week_table[day][shift].append(worker)\n",
    "    return week_table"
   ]
  },
  {
   "cell_type": "code",
   "execution_count": null,
   "metadata": {},
   "outputs": [],
   "source": []
  },
  {
   "cell_type": "markdown",
   "metadata": {},
   "source": [
    "Funkcija `get_no_preference` izdvaja listu radnika za koje nije ispunjen uslov rada vikendom."
   ]
  },
  {
   "cell_type": "code",
   "execution_count": 29,
   "metadata": {},
   "outputs": [],
   "source": [
    "def get_no_preference(no_pref):\n",
    "    return [worker for worker in workers if no_pref[worker].value == 1]"
   ]
  },
  {
   "cell_type": "code",
   "execution_count": null,
   "metadata": {},
   "outputs": [],
   "source": []
  },
  {
   "cell_type": "markdown",
   "metadata": {},
   "source": [
    "Ostaje još da izdvojimo potrebne informacije i prikažemo ih."
   ]
  },
  {
   "cell_type": "code",
   "execution_count": 30,
   "metadata": {},
   "outputs": [],
   "source": [
    "workers_needed = get_workers_needed(model.needed)  "
   ]
  },
  {
   "cell_type": "code",
   "execution_count": 31,
   "metadata": {},
   "outputs": [
    {
     "name": "stdout",
     "output_type": "stream",
     "text": [
      "Potrebni radnici:  ['W1', 'W2', 'W3', 'W4', 'W5', 'W6', 'W10']\n"
     ]
    }
   ],
   "source": [
    "print('Potrebni radnici: ', workers_needed)"
   ]
  },
  {
   "cell_type": "code",
   "execution_count": null,
   "metadata": {},
   "outputs": [],
   "source": []
  },
  {
   "cell_type": "code",
   "execution_count": 32,
   "metadata": {},
   "outputs": [],
   "source": [
    "week_table = get_work_table(model.works)"
   ]
  },
  {
   "cell_type": "code",
   "execution_count": 33,
   "metadata": {},
   "outputs": [
    {
     "name": "stdout",
     "output_type": "stream",
     "text": [
      "Plan rada radnika: \n",
      "{\n",
      "  \"Mon\": {\n",
      "    \"morning\": [\n",
      "      \"W1\",\n",
      "      \"W10\"\n",
      "    ],\n",
      "    \"evening\": [\n",
      "      \"W2\",\n",
      "      \"W5\"\n",
      "    ],\n",
      "    \"night\": [\n",
      "      \"W6\"\n",
      "    ]\n",
      "  },\n",
      "  \"Tue\": {\n",
      "    \"morning\": [\n",
      "      \"W1\",\n",
      "      \"W3\"\n",
      "    ],\n",
      "    \"evening\": [\n",
      "      \"W2\",\n",
      "      \"W10\"\n",
      "    ],\n",
      "    \"night\": [\n",
      "      \"W5\"\n",
      "    ]\n",
      "  },\n",
      "  \"Wed\": {\n",
      "    \"morning\": [\n",
      "      \"W1\",\n",
      "      \"W4\"\n",
      "    ],\n",
      "    \"evening\": [\n",
      "      \"W6\",\n",
      "      \"W10\"\n",
      "    ],\n",
      "    \"night\": [\n",
      "      \"W3\"\n",
      "    ]\n",
      "  },\n",
      "  \"Thu\": {\n",
      "    \"morning\": [\n",
      "      \"W1\",\n",
      "      \"W4\"\n",
      "    ],\n",
      "    \"evening\": [\n",
      "      \"W2\",\n",
      "      \"W10\"\n",
      "    ],\n",
      "    \"night\": [\n",
      "      \"W5\"\n",
      "    ]\n",
      "  },\n",
      "  \"Fri\": {\n",
      "    \"morning\": [\n",
      "      \"W1\",\n",
      "      \"W4\"\n",
      "    ],\n",
      "    \"evening\": [\n",
      "      \"W3\",\n",
      "      \"W10\"\n",
      "    ],\n",
      "    \"night\": [\n",
      "      \"W6\"\n",
      "    ]\n",
      "  },\n",
      "  \"Sat\": {\n",
      "    \"morning\": [\n",
      "      \"W2\",\n",
      "      \"W4\"\n",
      "    ],\n",
      "    \"evening\": [\n",
      "      \"W3\",\n",
      "      \"W5\"\n",
      "    ],\n",
      "    \"night\": [\n",
      "      \"W6\"\n",
      "    ]\n",
      "  },\n",
      "  \"Sun\": {\n",
      "    \"morning\": [\n",
      "      \"W2\"\n",
      "    ],\n",
      "    \"evening\": [\n",
      "      \"W5\"\n",
      "    ],\n",
      "    \"night\": [\n",
      "      \"W4\"\n",
      "    ]\n",
      "  }\n",
      "}\n"
     ]
    }
   ],
   "source": [
    "print('Plan rada radnika: ')\n",
    "print(json.dumps(week_table, indent=2))"
   ]
  },
  {
   "cell_type": "code",
   "execution_count": 34,
   "metadata": {},
   "outputs": [],
   "source": [
    "workers_no_pref = get_no_preference(model.no_pref)"
   ]
  },
  {
   "cell_type": "code",
   "execution_count": 35,
   "metadata": {},
   "outputs": [
    {
     "name": "stdout",
     "output_type": "stream",
     "text": [
      "Radnici koji ce imati problematican vikend:  []\n"
     ]
    }
   ],
   "source": [
    "print('Radnici koji ce imati problematican vikend: ', workers_no_pref)"
   ]
  },
  {
   "cell_type": "code",
   "execution_count": null,
   "metadata": {},
   "outputs": [],
   "source": []
  }
 ],
 "metadata": {
  "kernelspec": {
   "display_name": "Python 3",
   "language": "python",
   "name": "python3"
  },
  "language_info": {
   "codemirror_mode": {
    "name": "ipython",
    "version": 3
   },
   "file_extension": ".py",
   "mimetype": "text/x-python",
   "name": "python",
   "nbconvert_exporter": "python",
   "pygments_lexer": "ipython3",
   "version": "3.8.3"
  }
 },
 "nbformat": 4,
 "nbformat_minor": 5
}
