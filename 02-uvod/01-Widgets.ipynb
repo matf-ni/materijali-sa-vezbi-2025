{
 "cells": [
  {
   "cell_type": "markdown",
   "id": "3c0dba9c",
   "metadata": {},
   "source": [
    "# Vidžeti"
   ]
  },
  {
   "cell_type": "markdown",
   "id": "4900f6f2",
   "metadata": {},
   "source": [
    "Osnovne funkcionalnosti Jupyter okruženja mogu se proširiti takozvanim vidžetima, komonentama koje integrišu fragmente JavaScript i HTML koda u Jupyter sveske. Da bi vidžeti mogli da se koriste, potrebno je instalirati paket `ipywidgets` komandom `conda install -c conda-forge ipywidgets`. U nastavku ćemo videti kako se vidžeti poput padajućih listi, radio dugmića i polja za štrikliranje mogu iskoristiti za interaktivni prikaz grafikona i sistematičnije pretraživanje podataka."
   ]
  },
  {
   "cell_type": "code",
   "execution_count": null,
   "id": "df79c8e8",
   "metadata": {},
   "outputs": [],
   "source": []
  },
  {
   "cell_type": "code",
   "execution_count": 1,
   "id": "9150c557",
   "metadata": {},
   "outputs": [],
   "source": [
    "import numpy as np\n",
    "import pandas as pd\n",
    "from matplotlib import pyplot as plt"
   ]
  },
  {
   "cell_type": "code",
   "execution_count": 2,
   "id": "08d980d8",
   "metadata": {},
   "outputs": [],
   "source": [
    "from ipywidgets import widgets, interactive"
   ]
  },
  {
   "cell_type": "code",
   "execution_count": 3,
   "id": "ffac7d87",
   "metadata": {},
   "outputs": [],
   "source": [
    "from IPython.display import display"
   ]
  },
  {
   "cell_type": "code",
   "execution_count": null,
   "id": "c9ac6f17",
   "metadata": {},
   "outputs": [],
   "source": []
  },
  {
   "cell_type": "markdown",
   "id": "212e85fe",
   "metadata": {},
   "source": [
    "## Komponente za kreiranje formulara"
   ]
  },
  {
   "cell_type": "markdown",
   "id": "66fdd62f",
   "metadata": {},
   "source": [
    "Postoje mnogobrojne komponente koje se mogu iskoristiti za kreiranje interaktivnih formulara. Neke od njih upoznaćemo u primeru koji sledi u kojem ćemo prikazati grafik odabrane funkcije u granicama odabrane ekvidistantne mreže."
   ]
  },
  {
   "cell_type": "markdown",
   "id": "0f7a6dd5",
   "metadata": {},
   "source": [
    "Za odabir granica intervala iskoristićemo komponentu `FloatSlider`. Slajderu se preko argumenata `min` i `max` mogu zadati leva i desna granica opsega vrednosti, preko argumenta `value` početna vrednost, a preko argumenta `step` korak promene vrednosti. Preko argumenta `description` se zadaje labela koja treba da prati kreirane komponente. U slučaju slajdera, postoje argumenti kao što su `readout`, `readout_format`, `orientation` i `disabled` koji utiču, redom, na pojavljivanje i format vrednosti pored slajdera tj. sam način prikaza slajdera."
   ]
  },
  {
   "cell_type": "markdown",
   "id": "66afad50",
   "metadata": {},
   "source": [
    "Za prikaz komponenti koristićemo funkciju `display`."
   ]
  },
  {
   "cell_type": "code",
   "execution_count": 4,
   "id": "b219badb",
   "metadata": {},
   "outputs": [],
   "source": [
    "start_point = widgets.FloatSlider(min=-5 * np.pi,\n",
    "                                  max=5 * np.pi,\n",
    "                                  value=0,\n",
    "                                  step=0.1,\n",
    "                                  description='Početak: ')"
   ]
  },
  {
   "cell_type": "code",
   "execution_count": 5,
   "id": "baa35923",
   "metadata": {},
   "outputs": [
    {
     "data": {
      "application/vnd.jupyter.widget-view+json": {
       "model_id": "41f9bcdaf61844e3891e6288dd1a36d0",
       "version_major": 2,
       "version_minor": 0
      },
      "text/plain": [
       "FloatSlider(value=0.0, description='Početak: ', max=15.707963267948966, min=-15.707963267948966)"
      ]
     },
     "metadata": {},
     "output_type": "display_data"
    }
   ],
   "source": [
    "display(start_point)"
   ]
  },
  {
   "cell_type": "code",
   "execution_count": null,
   "id": "12c65267",
   "metadata": {},
   "outputs": [],
   "source": []
  },
  {
   "cell_type": "code",
   "execution_count": 6,
   "id": "59c1e62b",
   "metadata": {},
   "outputs": [],
   "source": [
    "end_point = widgets.FloatSlider(min=-5 * np.pi,\n",
    "                                max=5 * np.pi,\n",
    "                                value=5 * np.pi,\n",
    "                                step=0.1,\n",
    "                                description='Kraj: ')"
   ]
  },
  {
   "cell_type": "code",
   "execution_count": 7,
   "id": "5394cc05",
   "metadata": {},
   "outputs": [
    {
     "data": {
      "application/vnd.jupyter.widget-view+json": {
       "model_id": "9d486b961efb4b319bc96fcadb9fa0ae",
       "version_major": 2,
       "version_minor": 0
      },
      "text/plain": [
       "FloatSlider(value=15.707963267948966, description='Kraj: ', max=15.707963267948966, min=-15.707963267948966)"
      ]
     },
     "metadata": {},
     "output_type": "display_data"
    }
   ],
   "source": [
    "display(end_point)"
   ]
  },
  {
   "cell_type": "code",
   "execution_count": null,
   "id": "ea12773b",
   "metadata": {},
   "outputs": [],
   "source": []
  },
  {
   "cell_type": "markdown",
   "id": "d5fe0e25",
   "metadata": {},
   "source": [
    "Izbor funkcije za prikaz omogućićemo kroz seriju radio dugmića. Njih možemo kreirati korišćenjem komponente `RadioButtons`. Opcije za izbor se mogu zadati preko argumenta `options`, a podrazumevana vrednost preko argumenta `value`. Ukoliko se kao vrednost argumenta `options` navede lista, elementi liste će se iskoristiti i kao obeležja i kao vrednosti opcija. Moguće je navesti i listu parova tako da se prvi element para koristi kao obeležje, a drugi kao vrednost. "
   ]
  },
  {
   "cell_type": "code",
   "execution_count": 8,
   "id": "d7481454",
   "metadata": {},
   "outputs": [],
   "source": [
    "function_to_plot = widgets.RadioButtons(options=['sin', 'cos'],\n",
    "                                        value='sin',\n",
    "                                        description='Funkcija: ')"
   ]
  },
  {
   "cell_type": "code",
   "execution_count": 9,
   "id": "173249f8",
   "metadata": {},
   "outputs": [
    {
     "data": {
      "application/vnd.jupyter.widget-view+json": {
       "model_id": "f90224e4a18b41a3adc7921a073adf6d",
       "version_major": 2,
       "version_minor": 0
      },
      "text/plain": [
       "RadioButtons(description='Funkcija: ', options=('sin', 'cos'), value='sin')"
      ]
     },
     "metadata": {},
     "output_type": "display_data"
    }
   ],
   "source": [
    "display(function_to_plot)"
   ]
  },
  {
   "cell_type": "code",
   "execution_count": null,
   "id": "1798fc50",
   "metadata": {},
   "outputs": [],
   "source": []
  },
  {
   "cell_type": "markdown",
   "id": "a4f6b32f",
   "metadata": {},
   "source": [
    "Izbor broja tačaka intervala za iscrtavanje grafika funkcije omogućićemo padajućom listom. Nju možemo kreirati korišćenjem komponente `Dropdown`. Baš kao i kod radio dugmića, opcije se mogu zadati argumentom `options`, a početna vrednost argumentom `value`."
   ]
  },
  {
   "cell_type": "code",
   "execution_count": 10,
   "id": "db8ce671",
   "metadata": {},
   "outputs": [],
   "source": [
    "number_of_points = widgets.Dropdown(options=[10, 30, 50],\n",
    "                                    value=30,\n",
    "                                    description='Broj tačaka: ')"
   ]
  },
  {
   "cell_type": "code",
   "execution_count": 11,
   "id": "b51509a6",
   "metadata": {},
   "outputs": [
    {
     "data": {
      "application/vnd.jupyter.widget-view+json": {
       "model_id": "992037b748034b02b30b202a585eb540",
       "version_major": 2,
       "version_minor": 0
      },
      "text/plain": [
       "Dropdown(description='Broj tačaka: ', index=1, options=(10, 30, 50), value=30)"
      ]
     },
     "metadata": {},
     "output_type": "display_data"
    }
   ],
   "source": [
    "display(number_of_points)"
   ]
  },
  {
   "cell_type": "code",
   "execution_count": null,
   "id": "02a0c3a2",
   "metadata": {},
   "outputs": [],
   "source": []
  },
  {
   "cell_type": "markdown",
   "id": "2d334e06",
   "metadata": {},
   "source": [
    "Dugmad se mogu kreirati korišćenjem komponente `Button`. Labela koja se zadaje argumentom `description` će se sada pojaviti kao tekst na dugmetu, a korišćenjem argumenata `button_style` i `icon` se može izvršiti bazično stilizovanje dugmeta. Dodatno, argumentom `tooltip` se može potpunije približiti funkcionalnost dugmeta. Dugme se može deaktivirati korišćenjem svojstva `disabled` sa vrednošću `True`."
   ]
  },
  {
   "cell_type": "code",
   "execution_count": 12,
   "id": "7aa1bac7",
   "metadata": {},
   "outputs": [],
   "source": [
    "button = widgets.Button(description='Prikaži grafik',\n",
    "                        disabled=False,\n",
    "                        button_style='success',\n",
    "                        tooltip='Potvrdi')"
   ]
  },
  {
   "cell_type": "code",
   "execution_count": 13,
   "id": "be6d9442",
   "metadata": {},
   "outputs": [
    {
     "data": {
      "application/vnd.jupyter.widget-view+json": {
       "model_id": "16959693771e4d6c8c549f17068f5bc5",
       "version_major": 2,
       "version_minor": 0
      },
      "text/plain": [
       "Button(button_style='success', description='Prikaži grafik', style=ButtonStyle(), tooltip='Potvrdi')"
      ]
     },
     "metadata": {},
     "output_type": "display_data"
    }
   ],
   "source": [
    "display(button)"
   ]
  },
  {
   "cell_type": "code",
   "execution_count": null,
   "id": "16329b09",
   "metadata": {},
   "outputs": [],
   "source": []
  },
  {
   "cell_type": "markdown",
   "id": "3e23e097",
   "metadata": {},
   "source": [
    "Funkcija koja treba da se izvrši kada se klikne na dugme pridružuje se događajem `on_click`. U našem slučaju, to će biti funkcija `show_plot`. Očekuje se da argument ove funkcije bude objekat koji predstavlja samo dugme. Unutar funkcije ćemo očitati vrednosti odabranih kontrola korišćenjem njihovog svojstva `value`, a zatim i pripremiti podatke i prikazati grafik funkcije."
   ]
  },
  {
   "cell_type": "code",
   "execution_count": 14,
   "id": "2a9ca9df",
   "metadata": {},
   "outputs": [],
   "source": [
    "def show_plot(button):\n",
    "    start = start_point.value\n",
    "    end = end_point.value\n",
    "    if start > end:\n",
    "        print('Proverite granice intervala!')\n",
    "        return\n",
    "\n",
    "    N = int(number_of_points.value)\n",
    "    x = np.linspace(start, end, N)\n",
    "\n",
    "    if function_to_plot.value == 'sin':\n",
    "        y = np.sin(x)\n",
    "    else:\n",
    "        y = np.cos(x)\n",
    "\n",
    "    plt.clf()\n",
    "    plt.plot(x, y)\n",
    "    plt.title(function_to_plot.value)"
   ]
  },
  {
   "cell_type": "code",
   "execution_count": 15,
   "id": "13a16870",
   "metadata": {},
   "outputs": [],
   "source": [
    "button.on_click(show_plot)"
   ]
  },
  {
   "cell_type": "code",
   "execution_count": null,
   "id": "0938cfde",
   "metadata": {},
   "outputs": [],
   "source": []
  },
  {
   "cell_type": "markdown",
   "id": "81f18a64",
   "metadata": {},
   "source": [
    "Sve komponente zajedički možemo prikazati korišćenjem funkcije `display`. Pre toga ih, opciono, možemo vertikalno urediti korišćenjem komponente `VBox`. Horizontalno uređenje je moguće korišćenjem komponente `HBox`. Na raspolaganju su mnogobrojne komponente kojima se može preciznije uticati na raspored i prikaz elemenata. Neke od njih su `GridBox`, `Accordion`, `Tabs` i drugi. "
   ]
  },
  {
   "cell_type": "code",
   "execution_count": 16,
   "id": "459b459e",
   "metadata": {},
   "outputs": [],
   "source": [
    "form = widgets.VBox([start_point, end_point, function_to_plot, number_of_points, button])"
   ]
  },
  {
   "cell_type": "code",
   "execution_count": 17,
   "id": "7eedc30a",
   "metadata": {},
   "outputs": [
    {
     "data": {
      "application/vnd.jupyter.widget-view+json": {
       "model_id": "f71018c2b0f847d2b43082918a85cc91",
       "version_major": 2,
       "version_minor": 0
      },
      "text/plain": [
       "VBox(children=(FloatSlider(value=0.0, description='Početak: ', max=15.707963267948966, min=-15.707963267948966…"
      ]
     },
     "metadata": {},
     "output_type": "display_data"
    },
    {
     "data": {
      "image/png": "[encoded data removed]",
      "text/plain": [
       "<Figure size 432x288 with 1 Axes>"
      ]
     },
     "metadata": {
      "needs_background": "light"
     },
     "output_type": "display_data"
    }
   ],
   "source": [
    "display(form)"
   ]
  },
  {
   "cell_type": "code",
   "execution_count": null,
   "id": "a740d3c2",
   "metadata": {},
   "outputs": [],
   "source": []
  },
  {
   "cell_type": "markdown",
   "id": "7951fa11",
   "metadata": {},
   "source": [
    "### Funkcije interactive i interact"
   ]
  },
  {
   "cell_type": "markdown",
   "id": "919aece5",
   "metadata": {},
   "source": [
    "Interaktivnost sa formularom je moguće ostvariti i korišćenjem funkcionalnosti `interactive`. U prethodnom primeru, očekivalo se da prvo odaberemo opcije formulara, a potom da klikom na dugme i prikažemo grafik. Funkcinalnost `interactive` omogućava da se interaktivno reaguje na svaku promenu svake komponente formulara. Demonstriraćemo to prvo kroz prikaz grafika kosinusne funkcije na intervalu $[-2\\pi, 2\\pi]$ sa odabranim brojem tačaka ekvidistantne mreže."
   ]
  },
  {
   "cell_type": "code",
   "execution_count": 18,
   "id": "63773e6c",
   "metadata": {},
   "outputs": [],
   "source": [
    "def show_cosine_plot(N):\n",
    "    x = np.linspace(-2 * np.pi, 2 * np.pi, N)\n",
    "    plt.plot(x, np.cos(x))\n",
    "    plt.title('cos(x)')\n",
    "    plt.show()"
   ]
  },
  {
   "cell_type": "code",
   "execution_count": 19,
   "id": "03a13411",
   "metadata": {},
   "outputs": [],
   "source": [
    "interactive_cosine_plot = interactive(show_cosine_plot, N=(0, 50))    "
   ]
  },
  {
   "cell_type": "code",
   "execution_count": 20,
   "id": "31a2e860",
   "metadata": {},
   "outputs": [
    {
     "data": {
      "application/vnd.jupyter.widget-view+json": {
       "model_id": "c02f905f406f44d7a891c4d75432efb9",
       "version_major": 2,
       "version_minor": 0
      },
      "text/plain": [
       "interactive(children=(IntSlider(value=25, description='N', max=50), Output()), _dom_classes=('widget-interact'…"
      ]
     },
     "metadata": {},
     "output_type": "display_data"
    }
   ],
   "source": [
    "display(interactive_cosine_plot)"
   ]
  },
  {
   "cell_type": "code",
   "execution_count": null,
   "id": "8c851aa6",
   "metadata": {},
   "outputs": [],
   "source": []
  },
  {
   "cell_type": "markdown",
   "id": "92126448",
   "metadata": {},
   "source": [
    "Kao što možemo videti, sada se na svaku promenu vrednosti broja parametra `N` (broja tačaka ekvidistantne mreže), poziva funkcija za prikaz grafikona. Funkcija `interactive` očekuje ime funkcije koju treba izvršiti i parametre po kojima treba obezbediti interaktivnost."
   ]
  },
  {
   "cell_type": "markdown",
   "id": "72798aa4",
   "metadata": {},
   "source": [
    "Sada ćemo ovu vrstu interaktivnosti obezbediti za uvodni primer. Možemo primetiti da nije potrebno da eksplicitno očitamo vrednost kontrola svojstvom `value` prilikom navođenja argumenata funkcije `interactive`."
   ]
  },
  {
   "cell_type": "code",
   "execution_count": 21,
   "id": "1dc4b9a2",
   "metadata": {},
   "outputs": [],
   "source": [
    "def show_plot_interactive(start, end, N, function_to_plot):\n",
    "    if start > end:\n",
    "        print('Proverite granice intervala!')\n",
    "        return\n",
    "\n",
    "    N = int(N)\n",
    "    x = np.linspace(start, end, N)\n",
    "\n",
    "    if function_to_plot == 'sin':\n",
    "        y = np.sin(x)\n",
    "    else:\n",
    "        y = np.cos(x)\n",
    "\n",
    "    plt.clf()\n",
    "    plt.plot(x, y)\n",
    "    plt.title(function_to_plot)"
   ]
  },
  {
   "cell_type": "code",
   "execution_count": 22,
   "id": "5972649e",
   "metadata": {},
   "outputs": [],
   "source": [
    "form_interactive = interactive(show_plot_interactive, start=start_point, end=end_point, N=number_of_points, function_to_plot=function_to_plot)"
   ]
  },
  {
   "cell_type": "code",
   "execution_count": 23,
   "id": "c2af75ac",
   "metadata": {},
   "outputs": [
    {
     "data": {
      "application/vnd.jupyter.widget-view+json": {
       "model_id": "39a45378a85c4478a9808215a43250ea",
       "version_major": 2,
       "version_minor": 0
      },
      "text/plain": [
       "interactive(children=(FloatSlider(value=-15.707963267948966, description='Početak: ', max=15.707963267948966, …"
      ]
     },
     "metadata": {},
     "output_type": "display_data"
    }
   ],
   "source": [
    "display(form_interactive)"
   ]
  },
  {
   "cell_type": "code",
   "execution_count": null,
   "id": "c7c17f71",
   "metadata": {},
   "outputs": [],
   "source": []
  },
  {
   "cell_type": "markdown",
   "id": "62241606",
   "metadata": {},
   "source": [
    "Uz funkciju `interactive`, može se koristiti i funkcija `interact`. Razlike između ovih dveju funkcija su suptilne i tiču se povratnih vrednosti funkcija (funkcija `iteractive` vraća komponentu koja se može koristiti više puta, a funkcija `interact` odmah kreira GUI) i načinom kontrole ispisa unutar funkcija."
   ]
  },
  {
   "cell_type": "code",
   "execution_count": 31,
   "id": "ec5adf83",
   "metadata": {},
   "outputs": [],
   "source": []
  },
  {
   "cell_type": "markdown",
   "id": "7a1ddb78",
   "metadata": {},
   "source": [
    "## Pregledanje skupova podataka uz pomoć komponenti"
   ]
  },
  {
   "cell_type": "markdown",
   "id": "c8a87c41",
   "metadata": {},
   "source": [
    "Često se skupovi podataka sa kojima radimo karakterišu velikim brojem vrsta i kolona. Ukoliko je potrebno da izvršimo komparativnu analizu za neke skupove vrednosti, opcije koje imamo su ili da čuvamo ispise većeg broja poziva podesnih funkcija ili da kreiramo veći broj svesaka i tako poredimo rezultate. Ograničenja koja oba ova pristupa nose se mogu prevazići kreiranjem interaktivnih formulara za pregled podataka sa opcijama koje se tiču samih skupova podataka. U primeru koji sledi omogućićemo interaktivno pregledanje podataka o poslodavcima i njihovim licencama za rad. Podaci se nalaze u datoteci `data/licenses.csv`."
   ]
  },
  {
   "cell_type": "markdown",
   "id": "e265e055",
   "metadata": {},
   "source": [
    "Prvo ćemo učitati podatke i izvršiti elementarnu analizu."
   ]
  },
  {
   "cell_type": "code",
   "execution_count": 24,
   "id": "aa5ca72b",
   "metadata": {},
   "outputs": [],
   "source": [
    "data = pd.read_csv('data/licenses.csv')"
   ]
  },
  {
   "cell_type": "code",
   "execution_count": 25,
   "id": "15863eb2",
   "metadata": {},
   "outputs": [
    {
     "data": {
      "text/plain": [
       "(1000, 39)"
      ]
     },
     "execution_count": 25,
     "metadata": {},
     "output_type": "execute_result"
    }
   ],
   "source": [
    "data.shape"
   ]
  },
  {
   "cell_type": "code",
   "execution_count": 26,
   "id": "94980b04",
   "metadata": {},
   "outputs": [
    {
     "data": {
      "text/html": [
       "<div>\n",
       "<style scoped>\n",
       "    .dataframe tbody tr th:only-of-type {\n",
       "        vertical-align: middle;\n",
       "    }\n",
       "\n",
       "    .dataframe tbody tr th {\n",
       "        vertical-align: top;\n",
       "    }\n",
       "\n",
       "    .dataframe thead th {\n",
       "        text-align: right;\n",
       "    }\n",
       "</style>\n",
       "<table border=\"1\" class=\"dataframe\">\n",
       "  <thead>\n",
       "    <tr style=\"text-align: right;\">\n",
       "      <th></th>\n",
       "      <th>ID</th>\n",
       "      <th>LICENSE ID</th>\n",
       "      <th>ACCOUNT NUMBER</th>\n",
       "      <th>SITE NUMBER</th>\n",
       "      <th>LEGAL NAME</th>\n",
       "      <th>DOING BUSINESS AS NAME</th>\n",
       "      <th>ADDRESS</th>\n",
       "      <th>CITY</th>\n",
       "      <th>STATE</th>\n",
       "      <th>ZIP CODE</th>\n",
       "      <th>...</th>\n",
       "      <th>LICENSE STATUS CHANGE DATE</th>\n",
       "      <th>SSA</th>\n",
       "      <th>LATITUDE</th>\n",
       "      <th>LONGITUDE</th>\n",
       "      <th>LOCATION</th>\n",
       "      <th>Community Areas</th>\n",
       "      <th>Historical Wards 2003-2015</th>\n",
       "      <th>Zip Codes</th>\n",
       "      <th>Census Tracts</th>\n",
       "      <th>Wards</th>\n",
       "    </tr>\n",
       "  </thead>\n",
       "  <tbody>\n",
       "    <tr>\n",
       "      <th>0</th>\n",
       "      <td>2215438-20201216</td>\n",
       "      <td>2755898</td>\n",
       "      <td>375289</td>\n",
       "      <td>1</td>\n",
       "      <td>DE LA TORRE AUTO SALES INC.</td>\n",
       "      <td>DE LA TORRE AUTO SALES INC.</td>\n",
       "      <td>7120-7124 S HALSTED ST</td>\n",
       "      <td>CHICAGO</td>\n",
       "      <td>IL</td>\n",
       "      <td>60621</td>\n",
       "      <td>...</td>\n",
       "      <td>NaN</td>\n",
       "      <td>NaN</td>\n",
       "      <td>41.764545</td>\n",
       "      <td>-87.644542</td>\n",
       "      <td>(41.76454490870721, -87.6445418133858)</td>\n",
       "      <td>66.0</td>\n",
       "      <td>31.0</td>\n",
       "      <td>21559.0</td>\n",
       "      <td>512.0</td>\n",
       "      <td>32.0</td>\n",
       "    </tr>\n",
       "    <tr>\n",
       "      <th>1</th>\n",
       "      <td>2631946-20201116</td>\n",
       "      <td>2753069</td>\n",
       "      <td>432735</td>\n",
       "      <td>1</td>\n",
       "      <td>SITEL ARM CORP.</td>\n",
       "      <td>SITEL ARM CORP.</td>\n",
       "      <td>600  BRICKELL AVE.   3200</td>\n",
       "      <td>MIAMI</td>\n",
       "      <td>FL</td>\n",
       "      <td>33131</td>\n",
       "      <td>...</td>\n",
       "      <td>NaN</td>\n",
       "      <td>NaN</td>\n",
       "      <td>NaN</td>\n",
       "      <td>NaN</td>\n",
       "      <td>NaN</td>\n",
       "      <td>NaN</td>\n",
       "      <td>NaN</td>\n",
       "      <td>NaN</td>\n",
       "      <td>NaN</td>\n",
       "      <td>NaN</td>\n",
       "    </tr>\n",
       "    <tr>\n",
       "      <th>2</th>\n",
       "      <td>2601093-20200616</td>\n",
       "      <td>2727894</td>\n",
       "      <td>427963</td>\n",
       "      <td>1</td>\n",
       "      <td>Energy Resource Specialist, Inc</td>\n",
       "      <td>Energy Resource Roofing</td>\n",
       "      <td>1013 N FIRST ST</td>\n",
       "      <td>CHILLICOTHE</td>\n",
       "      <td>IL</td>\n",
       "      <td>61523</td>\n",
       "      <td>...</td>\n",
       "      <td>NaN</td>\n",
       "      <td>NaN</td>\n",
       "      <td>NaN</td>\n",
       "      <td>NaN</td>\n",
       "      <td>NaN</td>\n",
       "      <td>NaN</td>\n",
       "      <td>NaN</td>\n",
       "      <td>NaN</td>\n",
       "      <td>NaN</td>\n",
       "      <td>NaN</td>\n",
       "    </tr>\n",
       "    <tr>\n",
       "      <th>3</th>\n",
       "      <td>1478387-20201116</td>\n",
       "      <td>2751161</td>\n",
       "      <td>273724</td>\n",
       "      <td>1</td>\n",
       "      <td>CTA FOODS, INC.</td>\n",
       "      <td>MUNICIPAL FOODS</td>\n",
       "      <td>2559 W DIVISION ST</td>\n",
       "      <td>CHICAGO</td>\n",
       "      <td>IL</td>\n",
       "      <td>60622</td>\n",
       "      <td>...</td>\n",
       "      <td>NaN</td>\n",
       "      <td>NaN</td>\n",
       "      <td>41.902859</td>\n",
       "      <td>-87.691889</td>\n",
       "      <td>(41.90285923421055, -87.69188858431286)</td>\n",
       "      <td>25.0</td>\n",
       "      <td>10.0</td>\n",
       "      <td>21560.0</td>\n",
       "      <td>542.0</td>\n",
       "      <td>49.0</td>\n",
       "    </tr>\n",
       "    <tr>\n",
       "      <th>4</th>\n",
       "      <td>2627621-20201216</td>\n",
       "      <td>2756784</td>\n",
       "      <td>431942</td>\n",
       "      <td>1</td>\n",
       "      <td>CENVEO WORLDWIDE LIMITED</td>\n",
       "      <td>CENVEO WORLDWIDE LIMITED</td>\n",
       "      <td>3001 N ROCKWELL ST</td>\n",
       "      <td>CHICAGO</td>\n",
       "      <td>IL</td>\n",
       "      <td>60618</td>\n",
       "      <td>...</td>\n",
       "      <td>NaN</td>\n",
       "      <td>NaN</td>\n",
       "      <td>41.935845</td>\n",
       "      <td>-87.692696</td>\n",
       "      <td>(41.93584538238736, -87.69269599838543)</td>\n",
       "      <td>22.0</td>\n",
       "      <td>24.0</td>\n",
       "      <td>21538.0</td>\n",
       "      <td>467.0</td>\n",
       "      <td>20.0</td>\n",
       "    </tr>\n",
       "  </tbody>\n",
       "</table>\n",
       "<p>5 rows × 39 columns</p>\n",
       "</div>"
      ],
      "text/plain": [
       "                 ID  LICENSE ID  ACCOUNT NUMBER  SITE NUMBER  \\\n",
       "0  2215438-20201216     2755898          375289            1   \n",
       "1  2631946-20201116     2753069          432735            1   \n",
       "2  2601093-20200616     2727894          427963            1   \n",
       "3  1478387-20201116     2751161          273724            1   \n",
       "4  2627621-20201216     2756784          431942            1   \n",
       "\n",
       "                        LEGAL NAME       DOING BUSINESS AS NAME  \\\n",
       "0      DE LA TORRE AUTO SALES INC.  DE LA TORRE AUTO SALES INC.   \n",
       "1                  SITEL ARM CORP.              SITEL ARM CORP.   \n",
       "2  Energy Resource Specialist, Inc      Energy Resource Roofing   \n",
       "3                  CTA FOODS, INC.              MUNICIPAL FOODS   \n",
       "4         CENVEO WORLDWIDE LIMITED     CENVEO WORLDWIDE LIMITED   \n",
       "\n",
       "                     ADDRESS         CITY STATE  ZIP CODE  ...  \\\n",
       "0     7120-7124 S HALSTED ST      CHICAGO    IL     60621  ...   \n",
       "1  600  BRICKELL AVE.   3200        MIAMI    FL     33131  ...   \n",
       "2            1013 N FIRST ST  CHILLICOTHE    IL     61523  ...   \n",
       "3         2559 W DIVISION ST      CHICAGO    IL     60622  ...   \n",
       "4         3001 N ROCKWELL ST      CHICAGO    IL     60618  ...   \n",
       "\n",
       "   LICENSE STATUS CHANGE DATE  SSA   LATITUDE  LONGITUDE  \\\n",
       "0                         NaN  NaN  41.764545 -87.644542   \n",
       "1                         NaN  NaN        NaN        NaN   \n",
       "2                         NaN  NaN        NaN        NaN   \n",
       "3                         NaN  NaN  41.902859 -87.691889   \n",
       "4                         NaN  NaN  41.935845 -87.692696   \n",
       "\n",
       "                                  LOCATION Community Areas  \\\n",
       "0   (41.76454490870721, -87.6445418133858)            66.0   \n",
       "1                                      NaN             NaN   \n",
       "2                                      NaN             NaN   \n",
       "3  (41.90285923421055, -87.69188858431286)            25.0   \n",
       "4  (41.93584538238736, -87.69269599838543)            22.0   \n",
       "\n",
       "   Historical Wards 2003-2015 Zip Codes  Census Tracts Wards  \n",
       "0                        31.0   21559.0          512.0  32.0  \n",
       "1                         NaN       NaN            NaN   NaN  \n",
       "2                         NaN       NaN            NaN   NaN  \n",
       "3                        10.0   21560.0          542.0  49.0  \n",
       "4                        24.0   21538.0          467.0  20.0  \n",
       "\n",
       "[5 rows x 39 columns]"
      ]
     },
     "execution_count": 26,
     "metadata": {},
     "output_type": "execute_result"
    }
   ],
   "source": [
    "data.head()"
   ]
  },
  {
   "cell_type": "markdown",
   "id": "d8647fd0",
   "metadata": {},
   "source": [
    "Kao što možemo videti, ovo je nešto veći skup podataka, sa 1000 vrsta i 39 kolona."
   ]
  },
  {
   "cell_type": "code",
   "execution_count": 27,
   "id": "7209a790",
   "metadata": {},
   "outputs": [
    {
     "name": "stdout",
     "output_type": "stream",
     "text": [
      "<class 'pandas.core.frame.DataFrame'>\n",
      "RangeIndex: 1000 entries, 0 to 999\n",
      "Data columns (total 39 columns):\n",
      " #   Column                             Non-Null Count  Dtype  \n",
      "---  ------                             --------------  -----  \n",
      " 0   ID                                 1000 non-null   object \n",
      " 1   LICENSE ID                         1000 non-null   int64  \n",
      " 2   ACCOUNT NUMBER                     1000 non-null   int64  \n",
      " 3   SITE NUMBER                        1000 non-null   int64  \n",
      " 4   LEGAL NAME                         1000 non-null   object \n",
      " 5   DOING BUSINESS AS NAME             999 non-null    object \n",
      " 6   ADDRESS                            1000 non-null   object \n",
      " 7   CITY                               1000 non-null   object \n",
      " 8   STATE                              1000 non-null   object \n",
      " 9   ZIP CODE                           1000 non-null   int64  \n",
      " 10  WARD                               957 non-null    float64\n",
      " 11  PRECINCT                           739 non-null    float64\n",
      " 12  WARD PRECINCT                      957 non-null    object \n",
      " 13  POLICE DISTRICT                    743 non-null    float64\n",
      " 14  LICENSE CODE                       1000 non-null   int64  \n",
      " 15  LICENSE DESCRIPTION                1000 non-null   object \n",
      " 16  BUSINESS ACTIVITY ID               853 non-null    float64\n",
      " 17  BUSINESS ACTIVITY                  853 non-null    object \n",
      " 18  LICENSE NUMBER                     1000 non-null   int64  \n",
      " 19  APPLICATION TYPE                   1000 non-null   object \n",
      " 20  APPLICATION CREATED DATE           190 non-null    object \n",
      " 21  APPLICATION REQUIREMENTS COMPLETE  1000 non-null   object \n",
      " 22  PAYMENT DATE                       998 non-null    object \n",
      " 23  CONDITIONAL APPROVAL               1000 non-null   object \n",
      " 24  LICENSE TERM START DATE            1000 non-null   object \n",
      " 25  LICENSE TERM EXPIRATION DATE       1000 non-null   object \n",
      " 26  LICENSE APPROVED FOR ISSUANCE      997 non-null    object \n",
      " 27  DATE ISSUED                        1000 non-null   object \n",
      " 28  LICENSE STATUS                     1000 non-null   object \n",
      " 29  LICENSE STATUS CHANGE DATE         0 non-null      float64\n",
      " 30  SSA                                302 non-null    float64\n",
      " 31  LATITUDE                           950 non-null    float64\n",
      " 32  LONGITUDE                          950 non-null    float64\n",
      " 33  LOCATION                           950 non-null    object \n",
      " 34  Community Areas                    947 non-null    float64\n",
      " 35  Historical Wards 2003-2015         947 non-null    float64\n",
      " 36  Zip Codes                          950 non-null    float64\n",
      " 37  Census Tracts                      949 non-null    float64\n",
      " 38  Wards                              947 non-null    float64\n",
      "dtypes: float64(13), int64(6), object(20)\n",
      "memory usage: 304.8+ KB\n"
     ]
    }
   ],
   "source": [
    "data.info()"
   ]
  },
  {
   "cell_type": "markdown",
   "id": "db06dd8f",
   "metadata": {},
   "source": [
    "Dalje, možemo eliminisati kolone u kojima se nalaze primarno NaN vrednosti. Iz izveštaja funkcije `info` vidimo da takvih kolona ima ukupno 3. "
   ]
  },
  {
   "cell_type": "code",
   "execution_count": 28,
   "id": "7e02a6d5",
   "metadata": {},
   "outputs": [],
   "source": [
    "data.drop(columns=['APPLICATION CREATED DATE', 'LICENSE STATUS CHANGE DATE', 'SSA'], inplace=True)"
   ]
  },
  {
   "cell_type": "code",
   "execution_count": 29,
   "id": "0c40789c",
   "metadata": {},
   "outputs": [
    {
     "data": {
      "text/plain": [
       "(1000, 36)"
      ]
     },
     "execution_count": 29,
     "metadata": {},
     "output_type": "execute_result"
    }
   ],
   "source": [
    "data.shape"
   ]
  },
  {
   "cell_type": "markdown",
   "id": "42c13dbb",
   "metadata": {},
   "source": [
    "Funkciju `isna` možemo iskoristi za proveru preostalih nedostajućih vrednosti. Za slučaj da je neophodno, vrste sa nedostajućim vrednostima možemo obrisati korišćenjem funkcije `dropna`. "
   ]
  },
  {
   "cell_type": "code",
   "execution_count": 30,
   "id": "b9827feb",
   "metadata": {},
   "outputs": [
    {
     "data": {
      "text/plain": [
       "ID                                     0\n",
       "LICENSE ID                             0\n",
       "ACCOUNT NUMBER                         0\n",
       "SITE NUMBER                            0\n",
       "LEGAL NAME                             0\n",
       "DOING BUSINESS AS NAME                 1\n",
       "ADDRESS                                0\n",
       "CITY                                   0\n",
       "STATE                                  0\n",
       "ZIP CODE                               0\n",
       "WARD                                  43\n",
       "PRECINCT                             261\n",
       "WARD PRECINCT                         43\n",
       "POLICE DISTRICT                      257\n",
       "LICENSE CODE                           0\n",
       "LICENSE DESCRIPTION                    0\n",
       "BUSINESS ACTIVITY ID                 147\n",
       "BUSINESS ACTIVITY                    147\n",
       "LICENSE NUMBER                         0\n",
       "APPLICATION TYPE                       0\n",
       "APPLICATION REQUIREMENTS COMPLETE      0\n",
       "PAYMENT DATE                           2\n",
       "CONDITIONAL APPROVAL                   0\n",
       "LICENSE TERM START DATE                0\n",
       "LICENSE TERM EXPIRATION DATE           0\n",
       "LICENSE APPROVED FOR ISSUANCE          3\n",
       "DATE ISSUED                            0\n",
       "LICENSE STATUS                         0\n",
       "LATITUDE                              50\n",
       "LONGITUDE                             50\n",
       "LOCATION                              50\n",
       "Community Areas                       53\n",
       "Historical Wards 2003-2015            53\n",
       "Zip Codes                             50\n",
       "Census Tracts                         51\n",
       "Wards                                 53\n",
       "dtype: int64"
      ]
     },
     "execution_count": 30,
     "metadata": {},
     "output_type": "execute_result"
    }
   ],
   "source": [
    "data.isna().sum()"
   ]
  },
  {
   "cell_type": "code",
   "execution_count": 31,
   "id": "6e1354aa",
   "metadata": {},
   "outputs": [],
   "source": [
    "# data.dropna(axis=0, how='any', inplace=True)"
   ]
  },
  {
   "cell_type": "code",
   "execution_count": null,
   "id": "dab5db69",
   "metadata": {},
   "outputs": [],
   "source": []
  },
  {
   "cell_type": "markdown",
   "id": "ada49671",
   "metadata": {},
   "source": [
    "Dodatno ćemo redukovati broj zanimljivih vrsta skupa podataka tako što ćemo analizirati samo one regione (jedinstveno određene poštanskim tj. zip kodom) koji imaju barem 20 registrovanih licenciranih poslodavaca."
   ]
  },
  {
   "cell_type": "markdown",
   "id": "b195dcf3",
   "metadata": {},
   "source": [
    "Prvo ćemo izdvojiti jedinstvene poštanske kodove i steći predstavu o njihovoj brojnosti. Funkcija `unique` izdvaja jedinstvene vrednosti odabrane kolone."
   ]
  },
  {
   "cell_type": "code",
   "execution_count": 32,
   "id": "1f263f02",
   "metadata": {},
   "outputs": [],
   "source": [
    "unique_zip_codes = data['ZIP CODE'].unique()"
   ]
  },
  {
   "cell_type": "code",
   "execution_count": 35,
   "id": "c7cb015f",
   "metadata": {},
   "outputs": [
    {
     "data": {
      "text/plain": [
       "(96,)"
      ]
     },
     "execution_count": 35,
     "metadata": {},
     "output_type": "execute_result"
    }
   ],
   "source": [
    "unique_zip_codes.shape"
   ]
  },
  {
   "cell_type": "markdown",
   "id": "5115ddc1",
   "metadata": {},
   "source": [
    "Da bismo izdvojili željene poštanske kodove, iskoristićemo funkciju `groupby` biblioteke `pandas` koja će grupisati vrednosti vrsta po vrednostima poštanskih kodova, a potom i funkciju `count` koja će prebrojati koliko ima poslodavaca u svakoj od grupa. Vrednosti ćemo na kraju sortirati korišćenjem funkcije `sort_values` u opadajućem poretku (za izor poretka sortiranja koristi se parametar `ascending` čija vrednost može biti `True` ili `False`). "
   ]
  },
  {
   "cell_type": "code",
   "execution_count": 36,
   "id": "cedc97aa",
   "metadata": {},
   "outputs": [],
   "source": [
    "zip_codes = data.groupby('ZIP CODE').count()['ID'].sort_values(ascending=False)"
   ]
  },
  {
   "cell_type": "code",
   "execution_count": 37,
   "id": "e95149af",
   "metadata": {},
   "outputs": [
    {
     "data": {
      "text/plain": [
       "96"
      ]
     },
     "execution_count": 37,
     "metadata": {},
     "output_type": "execute_result"
    }
   ],
   "source": [
    "len(zip_codes)"
   ]
  },
  {
   "cell_type": "code",
   "execution_count": 38,
   "id": "81519d1b",
   "metadata": {},
   "outputs": [
    {
     "data": {
      "text/plain": [
       "ZIP CODE\n",
       "60618    126\n",
       "60639    105\n",
       "60622     66\n",
       "60609     42\n",
       "60649     33\n",
       "60655     31\n",
       "60647     26\n",
       "60608     25\n",
       "60614     23\n",
       "60619     21\n",
       "60646     19\n",
       "60623     18\n",
       "60607     18\n",
       "60616     18\n",
       "60625     17\n",
       "Name: ID, dtype: int64"
      ]
     },
     "execution_count": 38,
     "metadata": {},
     "output_type": "execute_result"
    }
   ],
   "source": [
    "zip_codes.head(15)"
   ]
  },
  {
   "cell_type": "markdown",
   "id": "d1fa5998",
   "metadata": {},
   "source": [
    "Potom ćemo izdvojiti regione sa željenim svojstvom tj. one koji imaju više od 20 licenciranih poslodavaca. Iz ispisa funkcije `head` vidimo da postoji svega nekoliko takvih regiona."
   ]
  },
  {
   "cell_type": "code",
   "execution_count": 41,
   "id": "c8746f7a",
   "metadata": {},
   "outputs": [],
   "source": [
    "zip_codes = list(zip_codes[zip_codes > 20].index)"
   ]
  },
  {
   "cell_type": "code",
   "execution_count": 42,
   "id": "88c6633e",
   "metadata": {},
   "outputs": [
    {
     "data": {
      "text/plain": [
       "[60618, 60639, 60622, 60609, 60649, 60655, 60647, 60608, 60614, 60619]"
      ]
     },
     "execution_count": 42,
     "metadata": {},
     "output_type": "execute_result"
    }
   ],
   "source": [
    "zip_codes"
   ]
  },
  {
   "cell_type": "code",
   "execution_count": null,
   "id": "e6cb25cb",
   "metadata": {},
   "outputs": [],
   "source": []
  },
  {
   "cell_type": "markdown",
   "id": "dbf70465",
   "metadata": {},
   "source": [
    "Za jedan konkretan poštanski broj želimo da korisnik ima mogućnost da kreira izveštaj tako što odabere kolonu po kojoj želi da sortira izveštaj i sam poredak sortiranja, a zatim da redukuje broj kolona po kojima želi da pregleda izveštaj. Na primer, za poštanski kod 60608, kolonu za uređivanje rezultata (u opadajućem poretku) koja označava datum isteka licence i kolone koji se odnose na ime, adresu i datum isteka licence poslodavca upit će izgledati ovako:"
   ]
  },
  {
   "cell_type": "code",
   "execution_count": 43,
   "id": "fee09e71",
   "metadata": {},
   "outputs": [],
   "source": [
    "zip_code = 60608"
   ]
  },
  {
   "cell_type": "code",
   "execution_count": 44,
   "id": "4bdfafa1",
   "metadata": {},
   "outputs": [
    {
     "data": {
      "text/html": [
       "<div>\n",
       "<style scoped>\n",
       "    .dataframe tbody tr th:only-of-type {\n",
       "        vertical-align: middle;\n",
       "    }\n",
       "\n",
       "    .dataframe tbody tr th {\n",
       "        vertical-align: top;\n",
       "    }\n",
       "\n",
       "    .dataframe thead th {\n",
       "        text-align: right;\n",
       "    }\n",
       "</style>\n",
       "<table border=\"1\" class=\"dataframe\">\n",
       "  <thead>\n",
       "    <tr style=\"text-align: right;\">\n",
       "      <th></th>\n",
       "      <th>LEGAL NAME</th>\n",
       "      <th>ADDRESS</th>\n",
       "      <th>LICENSE TERM EXPIRATION DATE</th>\n",
       "    </tr>\n",
       "  </thead>\n",
       "  <tbody>\n",
       "    <tr>\n",
       "      <th>961</th>\n",
       "      <td>BEST TASTE GROUP, LLC</td>\n",
       "      <td>1723 S ASHLAND AVE</td>\n",
       "      <td>12/15/2022</td>\n",
       "    </tr>\n",
       "    <tr>\n",
       "      <th>724</th>\n",
       "      <td>ARA SALON LLC</td>\n",
       "      <td>1825 S ASHLAND AVE 1</td>\n",
       "      <td>12/15/2022</td>\n",
       "    </tr>\n",
       "    <tr>\n",
       "      <th>837</th>\n",
       "      <td>THE GIANT PENNY WHISTLE LLC</td>\n",
       "      <td>1854-1856 S BLUE ISLAND AVE 1</td>\n",
       "      <td>12/15/2022</td>\n",
       "    </tr>\n",
       "    <tr>\n",
       "      <th>848</th>\n",
       "      <td>THE GIANT PENNY WHISTLE LLC</td>\n",
       "      <td>1854-1856 S BLUE ISLAND AVE 1</td>\n",
       "      <td>12/15/2022</td>\n",
       "    </tr>\n",
       "    <tr>\n",
       "      <th>631</th>\n",
       "      <td>MERAKI CREATIONS LLC</td>\n",
       "      <td>1111 W 14TH PL  320</td>\n",
       "      <td>12/15/2022</td>\n",
       "    </tr>\n",
       "    <tr>\n",
       "      <th>157</th>\n",
       "      <td>SHIVAADI CORPORATION</td>\n",
       "      <td>3303 S HALSTED ST</td>\n",
       "      <td>12/15/2022</td>\n",
       "    </tr>\n",
       "    <tr>\n",
       "      <th>564</th>\n",
       "      <td>CONCIERGE AFS CO.</td>\n",
       "      <td>1001 W 15TH ST  139</td>\n",
       "      <td>12/15/2022</td>\n",
       "    </tr>\n",
       "    <tr>\n",
       "      <th>503</th>\n",
       "      <td>BLACK HAIRSPRAY INC.,</td>\n",
       "      <td>2444 W 16TH ST  1E</td>\n",
       "      <td>12/15/2022</td>\n",
       "    </tr>\n",
       "    <tr>\n",
       "      <th>461</th>\n",
       "      <td>ASSASSIN INK, INC.</td>\n",
       "      <td>2135 S WESTERN AVE 1ST</td>\n",
       "      <td>12/15/2022</td>\n",
       "    </tr>\n",
       "    <tr>\n",
       "      <th>272</th>\n",
       "      <td>HECTOR PRODUCE CORP.</td>\n",
       "      <td>2525 S BLUE ISLAND AVE 1ST 104</td>\n",
       "      <td>12/15/2022</td>\n",
       "    </tr>\n",
       "    <tr>\n",
       "      <th>235</th>\n",
       "      <td>THE ART OF RESTORATION LTD.</td>\n",
       "      <td>1932 S HALSTED ST 5 500</td>\n",
       "      <td>12/15/2022</td>\n",
       "    </tr>\n",
       "    <tr>\n",
       "      <th>876</th>\n",
       "      <td>SMART LEARNING EDUCATION CENTER LLC</td>\n",
       "      <td>2705 S ARCHER AVE 1ST</td>\n",
       "      <td>12/15/2022</td>\n",
       "    </tr>\n",
       "    <tr>\n",
       "      <th>280</th>\n",
       "      <td>GLOBALMEX INC.</td>\n",
       "      <td>2541 S DAMEN AVE 1ST A</td>\n",
       "      <td>11/15/2022</td>\n",
       "    </tr>\n",
       "    <tr>\n",
       "      <th>761</th>\n",
       "      <td>V.H. EXPRESS LLC</td>\n",
       "      <td>2147 S CALIFORNIA AVE 1</td>\n",
       "      <td>11/15/2022</td>\n",
       "    </tr>\n",
       "    <tr>\n",
       "      <th>395</th>\n",
       "      <td>Teresa Boyle Rogers and Katie Rogers</td>\n",
       "      <td>1070 W 15TH ST  106</td>\n",
       "      <td>10/15/2022</td>\n",
       "    </tr>\n",
       "    <tr>\n",
       "      <th>294</th>\n",
       "      <td>STEADFAST DANCE CENTER, LLC</td>\n",
       "      <td>1860 S BLUE ISLAND AVE 3 303</td>\n",
       "      <td>09/15/2022</td>\n",
       "    </tr>\n",
       "    <tr>\n",
       "      <th>224</th>\n",
       "      <td>NEW PILSEN AUTO GLASS, INC.</td>\n",
       "      <td>2120 S ASHLAND AVE 1 1</td>\n",
       "      <td>07/15/2022</td>\n",
       "    </tr>\n",
       "    <tr>\n",
       "      <th>651</th>\n",
       "      <td>MARIA D.YEPEZ</td>\n",
       "      <td>2152 W CERMAK RD 1ST</td>\n",
       "      <td>04/15/2022</td>\n",
       "    </tr>\n",
       "    <tr>\n",
       "      <th>133</th>\n",
       "      <td>DORMAN-DUNN POST #547 AMERICAN LEGION</td>\n",
       "      <td>2129 W CERMAK RD  2</td>\n",
       "      <td>03/15/2022</td>\n",
       "    </tr>\n",
       "    <tr>\n",
       "      <th>685</th>\n",
       "      <td>SAMIL, INC.</td>\n",
       "      <td>3456 S WESTERN AVE 1</td>\n",
       "      <td>01/15/2023</td>\n",
       "    </tr>\n",
       "    <tr>\n",
       "      <th>669</th>\n",
       "      <td>SAMIL, INC.</td>\n",
       "      <td>3456 S WESTERN AVE 1</td>\n",
       "      <td>01/15/2023</td>\n",
       "    </tr>\n",
       "    <tr>\n",
       "      <th>636</th>\n",
       "      <td>BLUE ISLAND ENTERPRISES, INC.</td>\n",
       "      <td>2578-2584 S BLUE ISLAND AVE 1</td>\n",
       "      <td>01/15/2023</td>\n",
       "    </tr>\n",
       "    <tr>\n",
       "      <th>189</th>\n",
       "      <td>A &amp; O ENTERPRISES, INC.</td>\n",
       "      <td>2819 S ARCHER AVE 1</td>\n",
       "      <td>01/15/2023</td>\n",
       "    </tr>\n",
       "    <tr>\n",
       "      <th>921</th>\n",
       "      <td>DOUIS, LLC</td>\n",
       "      <td>2315 W OGDEN AVE</td>\n",
       "      <td>01/15/2023</td>\n",
       "    </tr>\n",
       "    <tr>\n",
       "      <th>615</th>\n",
       "      <td>BLUE ISLAND ENTERPRISES, INC.</td>\n",
       "      <td>2578-2584 S BLUE ISLAND AVE 1</td>\n",
       "      <td>01/15/2023</td>\n",
       "    </tr>\n",
       "  </tbody>\n",
       "</table>\n",
       "</div>"
      ],
      "text/plain": [
       "                                LEGAL NAME                         ADDRESS  \\\n",
       "961                  BEST TASTE GROUP, LLC              1723 S ASHLAND AVE   \n",
       "724                          ARA SALON LLC            1825 S ASHLAND AVE 1   \n",
       "837            THE GIANT PENNY WHISTLE LLC   1854-1856 S BLUE ISLAND AVE 1   \n",
       "848            THE GIANT PENNY WHISTLE LLC   1854-1856 S BLUE ISLAND AVE 1   \n",
       "631                   MERAKI CREATIONS LLC             1111 W 14TH PL  320   \n",
       "157                   SHIVAADI CORPORATION               3303 S HALSTED ST   \n",
       "564                      CONCIERGE AFS CO.             1001 W 15TH ST  139   \n",
       "503                  BLACK HAIRSPRAY INC.,              2444 W 16TH ST  1E   \n",
       "461                     ASSASSIN INK, INC.          2135 S WESTERN AVE 1ST   \n",
       "272                   HECTOR PRODUCE CORP.  2525 S BLUE ISLAND AVE 1ST 104   \n",
       "235            THE ART OF RESTORATION LTD.         1932 S HALSTED ST 5 500   \n",
       "876    SMART LEARNING EDUCATION CENTER LLC           2705 S ARCHER AVE 1ST   \n",
       "280                         GLOBALMEX INC.          2541 S DAMEN AVE 1ST A   \n",
       "761                       V.H. EXPRESS LLC         2147 S CALIFORNIA AVE 1   \n",
       "395   Teresa Boyle Rogers and Katie Rogers             1070 W 15TH ST  106   \n",
       "294            STEADFAST DANCE CENTER, LLC    1860 S BLUE ISLAND AVE 3 303   \n",
       "224            NEW PILSEN AUTO GLASS, INC.          2120 S ASHLAND AVE 1 1   \n",
       "651                          MARIA D.YEPEZ            2152 W CERMAK RD 1ST   \n",
       "133  DORMAN-DUNN POST #547 AMERICAN LEGION             2129 W CERMAK RD  2   \n",
       "685                            SAMIL, INC.            3456 S WESTERN AVE 1   \n",
       "669                            SAMIL, INC.            3456 S WESTERN AVE 1   \n",
       "636          BLUE ISLAND ENTERPRISES, INC.   2578-2584 S BLUE ISLAND AVE 1   \n",
       "189                A & O ENTERPRISES, INC.             2819 S ARCHER AVE 1   \n",
       "921                             DOUIS, LLC                2315 W OGDEN AVE   \n",
       "615          BLUE ISLAND ENTERPRISES, INC.   2578-2584 S BLUE ISLAND AVE 1   \n",
       "\n",
       "    LICENSE TERM EXPIRATION DATE  \n",
       "961                   12/15/2022  \n",
       "724                   12/15/2022  \n",
       "837                   12/15/2022  \n",
       "848                   12/15/2022  \n",
       "631                   12/15/2022  \n",
       "157                   12/15/2022  \n",
       "564                   12/15/2022  \n",
       "503                   12/15/2022  \n",
       "461                   12/15/2022  \n",
       "272                   12/15/2022  \n",
       "235                   12/15/2022  \n",
       "876                   12/15/2022  \n",
       "280                   11/15/2022  \n",
       "761                   11/15/2022  \n",
       "395                   10/15/2022  \n",
       "294                   09/15/2022  \n",
       "224                   07/15/2022  \n",
       "651                   04/15/2022  \n",
       "133                   03/15/2022  \n",
       "685                   01/15/2023  \n",
       "669                   01/15/2023  \n",
       "636                   01/15/2023  \n",
       "189                   01/15/2023  \n",
       "921                   01/15/2023  \n",
       "615                   01/15/2023  "
      ]
     },
     "execution_count": 44,
     "metadata": {},
     "output_type": "execute_result"
    }
   ],
   "source": [
    "data[data['ZIP CODE'] == zip_code].sort_values(\n",
    "    by='LICENSE TERM EXPIRATION DATE',\n",
    "    ascending=False)[['LEGAL NAME', 'ADDRESS', 'LICENSE TERM EXPIRATION DATE']]"
   ]
  },
  {
   "cell_type": "code",
   "execution_count": null,
   "id": "400e4d93",
   "metadata": {},
   "outputs": [],
   "source": []
  },
  {
   "cell_type": "markdown",
   "id": "1f242c9f",
   "metadata": {},
   "source": [
    "Sada ćemo kreirati formular koji će sadržati sve neophodne kontrole. Postojaće lista za izbor poštanskog broja, kolona po kojoj treba urediti prikaz, dugme za štrikliranje za odabir poretka sortiranja i lista sa višestrukim izborom za odabir kolona koje treba da se nađu u rezultujućem izveštaju."
   ]
  },
  {
   "cell_type": "code",
   "execution_count": 45,
   "id": "172f5609",
   "metadata": {},
   "outputs": [],
   "source": [
    "zips_dropdown = widgets.Dropdown(options=zip_codes,\n",
    "                                 value=zip_codes[0],\n",
    "                                 description='Zip kod:',\n",
    "                                 disabled=False)"
   ]
  },
  {
   "cell_type": "code",
   "execution_count": 46,
   "id": "f93c1ffe",
   "metadata": {},
   "outputs": [
    {
     "data": {
      "application/vnd.jupyter.widget-view+json": {
       "model_id": "ed85ce11584344eeb527cbf8cc9a2248",
       "version_major": 2,
       "version_minor": 0
      },
      "text/plain": [
       "Dropdown(description='Zip kod:', options=(60618, 60639, 60622, 60609, 60649, 60655, 60647, 60608, 60614, 60619…"
      ]
     },
     "metadata": {},
     "output_type": "display_data"
    }
   ],
   "source": [
    "display(zips_dropdown)"
   ]
  },
  {
   "cell_type": "code",
   "execution_count": null,
   "id": "7821cd6b",
   "metadata": {},
   "outputs": [],
   "source": []
  },
  {
   "cell_type": "markdown",
   "id": "3e76be6e",
   "metadata": {},
   "source": [
    "Za očitavanje imena kolona koristićemo svojstvo `columns`."
   ]
  },
  {
   "cell_type": "code",
   "execution_count": 47,
   "id": "8bfa5b69",
   "metadata": {},
   "outputs": [],
   "source": [
    "columns_dropdown = widgets.Dropdown(options=data.columns,\n",
    "                                    value=data.columns[4],\n",
    "                                    description='Uredi po:',\n",
    "                                    disabled=False)"
   ]
  },
  {
   "cell_type": "code",
   "execution_count": 48,
   "id": "6bf7d80f",
   "metadata": {},
   "outputs": [
    {
     "data": {
      "application/vnd.jupyter.widget-view+json": {
       "model_id": "72fa6a93c67e43de92b6f93117db28fa",
       "version_major": 2,
       "version_minor": 0
      },
      "text/plain": [
       "Dropdown(description='Uredi po:', index=4, options=('ID', 'LICENSE ID', 'ACCOUNT NUMBER', 'SITE NUMBER', 'LEGA…"
      ]
     },
     "metadata": {},
     "output_type": "display_data"
    }
   ],
   "source": [
    "display(columns_dropdown)"
   ]
  },
  {
   "cell_type": "code",
   "execution_count": null,
   "id": "d3faac1d",
   "metadata": {},
   "outputs": [],
   "source": []
  },
  {
   "cell_type": "markdown",
   "id": "6752bcdb",
   "metadata": {},
   "source": [
    "Dugmad za štrikliranje se kreiraju korišćenjem `Checkbox` komponente. Atribut `value` ima logičku vrednost True ili False i ukazuje na odabir kontrole."
   ]
  },
  {
   "cell_type": "code",
   "execution_count": 49,
   "id": "4bee4bc6",
   "metadata": {},
   "outputs": [],
   "source": [
    "sort_checkbox = widgets.Checkbox(value=False,\n",
    "                                 description='Rastuće',\n",
    "                                 disabled=False)"
   ]
  },
  {
   "cell_type": "code",
   "execution_count": 50,
   "id": "c9eadf9c",
   "metadata": {},
   "outputs": [
    {
     "data": {
      "application/vnd.jupyter.widget-view+json": {
       "model_id": "ca0df20c87f14d1ba1a121f58746771f",
       "version_major": 2,
       "version_minor": 0
      },
      "text/plain": [
       "Checkbox(value=False, description='Rastuće')"
      ]
     },
     "metadata": {},
     "output_type": "display_data"
    }
   ],
   "source": [
    "display(sort_checkbox)"
   ]
  },
  {
   "cell_type": "code",
   "execution_count": null,
   "id": "f4eb5a71",
   "metadata": {},
   "outputs": [],
   "source": []
  },
  {
   "cell_type": "markdown",
   "id": "f666872f",
   "metadata": {},
   "source": [
    "Lista sa višestrukim izborom se može kreirati korišćenjem komponente `SelectMultiple`. Raspoložive opcije se zadaju preko argumenta `options`, broj vidljivih opcija preko argumenta `rows`, a početno odabrane opcije argumentom `value`. Kako može biti odabrano više opcija, vrednost argumenta `value` je lista. "
   ]
  },
  {
   "cell_type": "code",
   "execution_count": 51,
   "id": "e1a7d715",
   "metadata": {},
   "outputs": [],
   "source": [
    "columns_selectmultiple = widgets.SelectMultiple(options=data.columns,\n",
    "                                                value=['LEGAL NAME'],\n",
    "                                                rows=10,\n",
    "                                                description='Podaci:',\n",
    "                                                disabled=False)"
   ]
  },
  {
   "cell_type": "code",
   "execution_count": 52,
   "id": "d233c39d",
   "metadata": {},
   "outputs": [
    {
     "data": {
      "application/vnd.jupyter.widget-view+json": {
       "model_id": "9166820df0304f85b1b1b55611b22ce2",
       "version_major": 2,
       "version_minor": 0
      },
      "text/plain": [
       "SelectMultiple(description='Podaci:', index=(4,), options=('ID', 'LICENSE ID', 'ACCOUNT NUMBER', 'SITE NUMBER'…"
      ]
     },
     "metadata": {},
     "output_type": "display_data"
    }
   ],
   "source": [
    "display(columns_selectmultiple)"
   ]
  },
  {
   "cell_type": "code",
   "execution_count": null,
   "id": "bba1d834",
   "metadata": {},
   "outputs": [],
   "source": []
  },
  {
   "cell_type": "markdown",
   "id": "1eb481ae",
   "metadata": {},
   "source": [
    "Pripremićemo i prostor za prikaz rezultujućeg izveštaja korišćenjem specijalne komponente `Output`."
   ]
  },
  {
   "cell_type": "code",
   "execution_count": 53,
   "id": "dd6727be",
   "metadata": {},
   "outputs": [],
   "source": [
    "report_output = widgets.Output()"
   ]
  },
  {
   "cell_type": "code",
   "execution_count": 54,
   "id": "50e0ea06",
   "metadata": {},
   "outputs": [
    {
     "data": {
      "application/vnd.jupyter.widget-view+json": {
       "model_id": "cc65c938aecd4b24bb55bab25cde82ce",
       "version_major": 2,
       "version_minor": 0
      },
      "text/plain": [
       "Output()"
      ]
     },
     "metadata": {},
     "output_type": "display_data"
    }
   ],
   "source": [
    "display(report_output)"
   ]
  },
  {
   "cell_type": "code",
   "execution_count": null,
   "id": "14e4d5a6",
   "metadata": {},
   "outputs": [],
   "source": []
  },
  {
   "cell_type": "markdown",
   "id": "70ae4ce2",
   "metadata": {},
   "source": [
    "Prilikom promena odabira opcija pozivaćemo funkciju za filtriranje prikaza `create_report`. U funkciji ćemo prvo izdvojiti podatke o poslodavcima sa traženim poštanskim kodom, potom ćemo sortirati vrednosti prema odabranoj koloni i poretku, a potom i izdvojiti kolone za prikaz. Ovako dobijene podatke ćemo prikazati u polju predviđenom za prikaz izveštaja. "
   ]
  },
  {
   "cell_type": "code",
   "execution_count": 55,
   "id": "7e95194e",
   "metadata": {},
   "outputs": [],
   "source": [
    "def create_report(zip_code, sort_column, sort_ascending, view_columns):\n",
    "    filtered = data[data['ZIP CODE'] == zip_code].sort_values(\n",
    "        by=sort_column, ascending=sort_ascending)[list(view_columns)]\n",
    "    with report_output:\n",
    "        report_output.clear_output()\n",
    "        display(filtered)"
   ]
  },
  {
   "cell_type": "code",
   "execution_count": null,
   "id": "5ccfd5f8",
   "metadata": {},
   "outputs": [],
   "source": []
  },
  {
   "cell_type": "markdown",
   "id": "7ceec1be",
   "metadata": {},
   "source": [
    "Interaktivni formular ćemo dobiti korišćenjem funkcije `interactive` za funkciju `create_report` i njene argumente."
   ]
  },
  {
   "cell_type": "code",
   "execution_count": 56,
   "id": "2e2a6fb5",
   "metadata": {},
   "outputs": [
    {
     "data": {
      "application/vnd.jupyter.widget-view+json": {
       "model_id": "0841252ed4d146f5894a7318c2bbd18e",
       "version_major": 2,
       "version_minor": 0
      },
      "text/plain": [
       "interactive(children=(Dropdown(description='Zip kod:', index=2, options=(60618, 60639, 60622, 60609, 60649, 60…"
      ]
     },
     "metadata": {},
     "output_type": "display_data"
    }
   ],
   "source": [
    "interactive(create_report,\n",
    "            zip_code=zips_dropdown,\n",
    "            sort_column=columns_dropdown,\n",
    "            sort_ascending=sort_checkbox,\n",
    "            view_columns=columns_selectmultiple)"
   ]
  },
  {
   "cell_type": "markdown",
   "id": "09396a64",
   "metadata": {},
   "source": [
    "Obratite pažnju da će se nakon prikaza ovog interaktivnog formulara izlaz pojaviti na mesto komponente `Output`."
   ]
  },
  {
   "cell_type": "code",
   "execution_count": null,
   "id": "04242cfe",
   "metadata": {},
   "outputs": [],
   "source": []
  },
  {
   "cell_type": "markdown",
   "id": "0a90065f",
   "metadata": {},
   "source": [
    "Pored komponenti koje smo uveli u ovoj svesci postoje još mnoge druge zanimljive komponente poput komponenti za izbor datuma, boja, praćenje progresa, unos kraćih i dužih tekstualnih sadržaja i slično. Korišćenjem pomenutih vidžita za uređivanje rasporeda kontrola i pridruživanjem CSS stilova mogu se dobiti vrlo dopadljivi formulari. Više o svemu ovome se može pročitati u [zvaničnoj dokumentaciji](https://ipywidgets.readthedocs.io/en/latest/index.html)."
   ]
  },
  {
   "cell_type": "code",
   "execution_count": null,
   "id": "c5f4283e",
   "metadata": {},
   "outputs": [],
   "source": []
  }
 ],
 "metadata": {
  "kernelspec": {
   "display_name": "Python 3",
   "language": "python",
   "name": "python3"
  },
  "language_info": {
   "codemirror_mode": {
    "name": "ipython",
    "version": 3
   },
   "file_extension": ".py",
   "mimetype": "text/x-python",
   "name": "python",
   "nbconvert_exporter": "python",
   "pygments_lexer": "ipython3",
   "version": "3.7.6"
  }
 },
 "nbformat": 4,
 "nbformat_minor": 5
}
