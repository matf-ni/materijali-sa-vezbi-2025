{
 "cells": [
  {
   "cell_type": "markdown",
   "metadata": {},
   "source": [
    "### 1. zadatak (10 poena)"
   ]
  },
  {
   "cell_type": "markdown",
   "metadata": {},
   "source": [
    "Jakobijeva metoda rešavanja sistema linearnih jednačina $Ax=b$ spada u grupu metoda sa takozvanim statičkim matricama preuslovljavanja koje pomažu pri rešavanju sistema koji su loše uslovljeni ili retki. Prvi korak ove metode podrazumeva razlaganje kvadratne matrice $A$ na matricu dijagonalnih elemenata $D$ i matricu $R$ tako da je $A = D + R$. Dalje se prati korak iteracije $x^{k+1} = D^{-1}(b-Rx^k)$ tj. $x_i^{k+1} = \\frac{1}{a_{ii}}(b_i - \\sum_{i\\neq j}{a_{ij}x_j^k})$, $i=1, 2, ...$  kojim se polazeći od proizvoljno izabranog rešenja $x_0$ nakon određenog broja iteracija stiže do tačnog rešenja. "
   ]
  },
  {
   "cell_type": "code",
   "execution_count": 1,
   "metadata": {},
   "outputs": [],
   "source": [
    "import numpy as np"
   ]
  },
  {
   "cell_type": "code",
   "execution_count": null,
   "metadata": {},
   "outputs": [],
   "source": []
  },
  {
   "cell_type": "markdown",
   "metadata": {},
   "source": [
    "a) Napisati funkciju `solver(A, b, x0, number_of_iterations)` koja za zadatu matricu $A$, vektor $b$, početno rešenje $x0$ i broj iteracija $number\\_of\\_iterations$ pronalazi rešenje sistema Jakobijevom metodom."
   ]
  },
  {
   "cell_type": "code",
   "execution_count": null,
   "metadata": {},
   "outputs": [],
   "source": []
  },
  {
   "cell_type": "code",
   "execution_count": null,
   "metadata": {},
   "outputs": [],
   "source": []
  },
  {
   "cell_type": "code",
   "execution_count": null,
   "metadata": {},
   "outputs": [],
   "source": []
  },
  {
   "cell_type": "code",
   "execution_count": null,
   "metadata": {},
   "outputs": [],
   "source": []
  },
  {
   "cell_type": "markdown",
   "metadata": {},
   "source": [
    "b) Primeniti prethodnu funkciju nad matricom $A = \\begin{pmatrix}\n",
    "10 & -1 & 2 & 0 \\\\\n",
    "-1 & 11 & -1 & 3\\\\\n",
    "2 & -1 & 10 & -1\\\\\n",
    "0 & 3 & -1 & 8\n",
    "\\end{pmatrix}$ i vektorom $b= \\begin{pmatrix} \n",
    "6 \\\\ \n",
    "25 \\\\\n",
    "-11\\\\\n",
    "15 \n",
    "\\end{pmatrix}$ za početno rešenje $x0= \\begin{pmatrix} \n",
    "0 \\\\ \n",
    "0 \\\\\n",
    "0\\\\\n",
    "0 \n",
    "\\end{pmatrix}$ i broj iteracija $10$."
   ]
  },
  {
   "cell_type": "code",
   "execution_count": null,
   "metadata": {},
   "outputs": [],
   "source": []
  },
  {
   "cell_type": "code",
   "execution_count": null,
   "metadata": {},
   "outputs": [],
   "source": []
  },
  {
   "cell_type": "code",
   "execution_count": null,
   "metadata": {},
   "outputs": [],
   "source": []
  },
  {
   "cell_type": "code",
   "execution_count": null,
   "metadata": {},
   "outputs": [],
   "source": []
  },
  {
   "cell_type": "markdown",
   "metadata": {},
   "source": [
    "c) Uporediti dobijeno rešenje sa rešenjem koje se dobija korišćenjem bibliotečke funkcije. Kolika greška se pravi?"
   ]
  },
  {
   "cell_type": "code",
   "execution_count": null,
   "metadata": {},
   "outputs": [],
   "source": []
  },
  {
   "cell_type": "code",
   "execution_count": null,
   "metadata": {},
   "outputs": [],
   "source": []
  },
  {
   "cell_type": "code",
   "execution_count": null,
   "metadata": {},
   "outputs": [],
   "source": []
  },
  {
   "cell_type": "code",
   "execution_count": null,
   "metadata": {},
   "outputs": [],
   "source": []
  },
  {
   "cell_type": "markdown",
   "metadata": {},
   "source": [
    "d) Kolika je uslovljenost matrice $A$?"
   ]
  },
  {
   "cell_type": "code",
   "execution_count": null,
   "metadata": {},
   "outputs": [],
   "source": []
  },
  {
   "cell_type": "code",
   "execution_count": null,
   "metadata": {},
   "outputs": [],
   "source": []
  },
  {
   "cell_type": "code",
   "execution_count": null,
   "metadata": {},
   "outputs": [],
   "source": []
  },
  {
   "cell_type": "code",
   "execution_count": null,
   "metadata": {},
   "outputs": [],
   "source": []
  }
 ],
 "metadata": {
  "kernelspec": {
   "display_name": "Python 3",
   "language": "python",
   "name": "python3"
  },
  "language_info": {
   "codemirror_mode": {
    "name": "ipython",
    "version": 3
   },
   "file_extension": ".py",
   "mimetype": "text/x-python",
   "name": "python",
   "nbconvert_exporter": "python",
   "pygments_lexer": "ipython3",
   "version": "3.7.6"
  }
 },
 "nbformat": 4,
 "nbformat_minor": 4
}
