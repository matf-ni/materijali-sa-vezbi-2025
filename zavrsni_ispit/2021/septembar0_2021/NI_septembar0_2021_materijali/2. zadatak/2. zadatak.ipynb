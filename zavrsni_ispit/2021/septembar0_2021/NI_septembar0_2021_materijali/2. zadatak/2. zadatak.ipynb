{
 "cells": [
  {
   "cell_type": "code",
   "execution_count": 1,
   "id": "e5d09c8e",
   "metadata": {},
   "outputs": [],
   "source": [
    "import os"
   ]
  },
  {
   "cell_type": "code",
   "execution_count": 2,
   "id": "09094fbc",
   "metadata": {},
   "outputs": [],
   "source": [
    "import numpy as np\n",
    "from scipy import signal\n",
    "from PIL import Image"
   ]
  },
  {
   "cell_type": "code",
   "execution_count": 3,
   "id": "cdcd183a",
   "metadata": {},
   "outputs": [],
   "source": [
    "from matplotlib import pyplot as plt"
   ]
  },
  {
   "cell_type": "markdown",
   "id": "29139c92",
   "metadata": {},
   "source": [
    "a) Jedan od načina da se kvantifikuje zamućenost slike je da se nad slikom primeni Laplasov filter, a zatim da se izračuna varijansa rezultujuće slike. Male vrednosti varijanse će ukazivati na male promene intenziteta piksela, dok će veće vrednosti ukazivati na jasne prelaze i jasnije slike. Napisati funkciju `calculate_blurness (image, filter)` koja će nad zadatom slikom primeniti Laplasov filter i izračunati varijansu rezultujuće slike. Laplasov filter je određen matricom \n",
    "$\n",
    "\\begin{bmatrix}\n",
    "0 & 1 & 0 \\\\ \n",
    "1 & -4 & 1 \\\\ \n",
    "0 & 1 & 0\n",
    "\\end{bmatrix}\n",
    "$."
   ]
  },
  {
   "cell_type": "code",
   "execution_count": null,
   "id": "84926ac2",
   "metadata": {},
   "outputs": [],
   "source": []
  },
  {
   "cell_type": "code",
   "execution_count": null,
   "id": "873a34d0",
   "metadata": {},
   "outputs": [],
   "source": []
  },
  {
   "cell_type": "code",
   "execution_count": null,
   "id": "0c88e0e4",
   "metadata": {},
   "outputs": [],
   "source": []
  },
  {
   "cell_type": "code",
   "execution_count": null,
   "id": "6366bea1",
   "metadata": {},
   "outputs": [],
   "source": []
  },
  {
   "cell_type": "markdown",
   "id": "7a02ee4e",
   "metadata": {},
   "source": [
    "b) U direktorijum `ballet_dancers` se nalaze slike balerina u toku igre. Pročitati slike koje se nalaze u ovom direktorijumu, svesti ih na dimenziju 250 x 300 piksela i crno-beli mod, a zatim koristeći prethodnu funkciju izdvojiti i prikazati sliku koja je najzamućenija. "
   ]
  },
  {
   "cell_type": "code",
   "execution_count": null,
   "id": "9a409dbf",
   "metadata": {},
   "outputs": [],
   "source": []
  },
  {
   "cell_type": "code",
   "execution_count": null,
   "id": "fb2a08f0",
   "metadata": {},
   "outputs": [],
   "source": []
  },
  {
   "cell_type": "code",
   "execution_count": null,
   "id": "33a72b7f",
   "metadata": {},
   "outputs": [],
   "source": []
  },
  {
   "cell_type": "code",
   "execution_count": null,
   "id": "6326697f",
   "metadata": {},
   "outputs": [],
   "source": []
  },
  {
   "cell_type": "markdown",
   "id": "806c7cce",
   "metadata": {},
   "source": [
    "c) U praksi se za neutralisanje zamućenosti pokreta (engl. motion blur) koristi Vienerov filter. Ovaj filter koristi stohastičke procese minimizacije srednjekvadratne greške rekonstrukcije. \n",
    "\n",
    "Kreirati masku sa normalnim šumom dimenzija 250x300 piksela, potom je dodati gornjoj slici, a zatim korišćenjem funkcije `signal.wiener` biblioteke `scipy` primeniti Vienerov filter veličine 5x5. Prikazati rezultujuću sliku i izračunati njenu zamućenost."
   ]
  },
  {
   "cell_type": "code",
   "execution_count": null,
   "id": "cbfcf6ce",
   "metadata": {},
   "outputs": [],
   "source": []
  },
  {
   "cell_type": "code",
   "execution_count": null,
   "id": "dd4a2c28",
   "metadata": {},
   "outputs": [],
   "source": []
  },
  {
   "cell_type": "code",
   "execution_count": null,
   "id": "052d583f",
   "metadata": {},
   "outputs": [],
   "source": []
  },
  {
   "cell_type": "code",
   "execution_count": null,
   "id": "dbf0276a",
   "metadata": {},
   "outputs": [],
   "source": []
  }
 ],
 "metadata": {
  "kernelspec": {
   "display_name": "Python 3",
   "language": "python",
   "name": "python3"
  },
  "language_info": {
   "codemirror_mode": {
    "name": "ipython",
    "version": 3
   },
   "file_extension": ".py",
   "mimetype": "text/x-python",
   "name": "python",
   "nbconvert_exporter": "python",
   "pygments_lexer": "ipython3",
   "version": "3.7.6"
  }
 },
 "nbformat": 4,
 "nbformat_minor": 5
}
