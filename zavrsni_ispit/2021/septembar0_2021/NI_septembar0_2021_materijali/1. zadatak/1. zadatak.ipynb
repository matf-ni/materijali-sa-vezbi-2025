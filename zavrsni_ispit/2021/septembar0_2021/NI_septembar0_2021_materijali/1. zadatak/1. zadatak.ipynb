{
 "cells": [
  {
   "cell_type": "markdown",
   "id": "78b2fbdf",
   "metadata": {},
   "source": [
    "### 1. zadatak (10 poena)"
   ]
  },
  {
   "cell_type": "markdown",
   "id": "a8ca505f",
   "metadata": {},
   "source": [
    "U kompjuterskoj grafici i 3D modelovanju *algoritam bilinearne interpolacije* se koristi za aproksimiranje vrednosti boja i tekstura na osnovu poznatih vrednosti svojstava okolnih piksela. Zahvaljujući ovom algoritmu moguće su memorijske optimizacije i prikazi sadržaja sa različitim nivoima detalja. "
   ]
  },
  {
   "cell_type": "code",
   "execution_count": 1,
   "id": "74f069df",
   "metadata": {},
   "outputs": [],
   "source": [
    "import numpy as np"
   ]
  },
  {
   "cell_type": "code",
   "execution_count": 2,
   "id": "550564dd",
   "metadata": {},
   "outputs": [],
   "source": [
    "from PIL import Image"
   ]
  },
  {
   "cell_type": "markdown",
   "id": "3ec78df0",
   "metadata": {},
   "source": [
    "a) Implementirati algoritam bilinearne interpolacije koji za tačku $(x, y)$ određuje vrednost funkcije $Q(x, y)$ ukoliko su poznate vrednosti okolnih tačaka $(x_1, y_1)$, $(x_1, y_2)$, $(x_2, y_1)$ i $(x_2, y_2)$ i redom iznose $Q_{11}$, $Q_{12}$, $Q_{21}$ i $Q_{22}$ (pogledati sliku). Algoritmom se prvo linearnom interpolacijom određuju vrednosti tačaka $R_1$ i $R_2$, a potom se novom linearnom interpolacijom na osnovu njihovih vrednosti određuje finalna vrednost $P$ u tački $(x, y)$. <img src='bilinear_interpolation.png' style='width: 300px'/>"
   ]
  },
  {
   "cell_type": "markdown",
   "id": "eeca5ec8",
   "metadata": {},
   "source": [
    "Za interpolaciju duž x-ose mogu se koristiti formule $$Q(x, y_1) = \\frac{x_2-x}{x_2-x_1}Q_{11} + \\frac{x-x_1}{x_2-x_1}Q_{21}$$ i $$Q(x, y_2)= \\frac{x_2-x}{x_2-x_1}Q_{12} + \\frac{x-x_1}{x_2-x_1}Q_{22}$$, a za interpolaciju duž y-ose formula $$f(x, y) = \\frac{y_2-y}{y_2-y_1} Q(x, y_1) + \\frac{y-y_1}{y_2-y_1}Q(x, y_2)$$. "
   ]
  },
  {
   "cell_type": "code",
   "execution_count": null,
   "id": "60a645f3",
   "metadata": {},
   "outputs": [],
   "source": []
  },
  {
   "cell_type": "code",
   "execution_count": null,
   "id": "96c5bb94",
   "metadata": {},
   "outputs": [],
   "source": []
  },
  {
   "cell_type": "code",
   "execution_count": null,
   "id": "1e058d96",
   "metadata": {},
   "outputs": [],
   "source": []
  },
  {
   "cell_type": "code",
   "execution_count": null,
   "id": "17ffc747",
   "metadata": {},
   "outputs": [],
   "source": []
  },
  {
   "cell_type": "markdown",
   "id": "0ac5fce8",
   "metadata": {},
   "source": [
    "2) Alternativni način računanja vrednosti bilinearne interpolacije za tačku $(x, y)$ svodi se na primenu funkcije oblika $Q(x, y) = a_0 + a_1\\cdot x+a_2\\cdot y+a_3\\cdot x\\cdot y$ čiji se koeficijenti mogu odrediti rešavanjem sistema jednačina za tačke $(x_1, y_1)$, $(x_1, y_2)$, $(x_2, y_1)$ i $(x_2, y_2)$ i poznate vrednosti funkcije $Q_{11}$, $Q_{12}$, $Q_{21}$ i $Q_{22}$ u njima. Implementirati i ovu funkciju. "
   ]
  },
  {
   "cell_type": "code",
   "execution_count": null,
   "id": "f8972f69",
   "metadata": {},
   "outputs": [],
   "source": []
  },
  {
   "cell_type": "code",
   "execution_count": null,
   "id": "394f12f5",
   "metadata": {},
   "outputs": [],
   "source": []
  },
  {
   "cell_type": "code",
   "execution_count": null,
   "id": "b9a19a12",
   "metadata": {},
   "outputs": [],
   "source": []
  },
  {
   "cell_type": "code",
   "execution_count": null,
   "id": "c76f4055",
   "metadata": {},
   "outputs": [],
   "source": []
  },
  {
   "cell_type": "code",
   "execution_count": null,
   "id": "7171b095",
   "metadata": {},
   "outputs": [],
   "source": []
  },
  {
   "cell_type": "markdown",
   "id": "56b2caca",
   "metadata": {},
   "source": [
    "3) Učitati crno-belu sliku `jazz.jpq` , a potom izdvojiti vrednosti tačaka (300, 100), (300, 240), (420, 100) i (420, 240) i na osnovu njih izračunati vrednost piksela u tački (380, 200). Uporediti vrednosti dobijenih funkcija. "
   ]
  },
  {
   "cell_type": "code",
   "execution_count": null,
   "id": "b5ce3b1b",
   "metadata": {},
   "outputs": [],
   "source": []
  },
  {
   "cell_type": "code",
   "execution_count": null,
   "id": "4b67edd0",
   "metadata": {},
   "outputs": [],
   "source": []
  },
  {
   "cell_type": "code",
   "execution_count": null,
   "id": "01a1f31f",
   "metadata": {},
   "outputs": [],
   "source": []
  },
  {
   "cell_type": "code",
   "execution_count": null,
   "id": "30a539fd",
   "metadata": {},
   "outputs": [],
   "source": []
  },
  {
   "cell_type": "code",
   "execution_count": null,
   "id": "99cab2d0",
   "metadata": {},
   "outputs": [],
   "source": []
  }
 ],
 "metadata": {
  "kernelspec": {
   "display_name": "Python 3",
   "language": "python",
   "name": "python3"
  },
  "language_info": {
   "codemirror_mode": {
    "name": "ipython",
    "version": 3
   },
   "file_extension": ".py",
   "mimetype": "text/x-python",
   "name": "python",
   "nbconvert_exporter": "python",
   "pygments_lexer": "ipython3",
   "version": "3.7.6"
  }
 },
 "nbformat": 4,
 "nbformat_minor": 5
}
