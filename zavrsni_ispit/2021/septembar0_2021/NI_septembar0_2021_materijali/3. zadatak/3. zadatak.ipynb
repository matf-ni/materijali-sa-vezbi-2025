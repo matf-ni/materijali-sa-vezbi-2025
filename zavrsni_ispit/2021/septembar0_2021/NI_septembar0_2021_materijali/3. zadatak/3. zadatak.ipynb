{
 "cells": [
  {
   "cell_type": "markdown",
   "id": "9250786d",
   "metadata": {},
   "source": [
    "### 3. zadatak (10 poena)"
   ]
  },
  {
   "cell_type": "markdown",
   "id": "fe43a5fa",
   "metadata": {},
   "source": [
    "Sledećom tabelom date su nutritivne vrednosti i cene četiri namirnice.\n",
    "\n",
    "<table>\n",
    "    <tr> \n",
    "        <td>&nbsp;</td><td>Namirnica1</td><td>Namirnica2</td><td>Namirnica3</td><td>Namirnica4</td>\n",
    "    </tr>\n",
    "    <tr> \n",
    "        <td>Kalorije</td><td>400</td><td>200</td><td>150</td><td>500</td>\n",
    "    </tr>\n",
    "    <tr> \n",
    "        <td>Proteini (u gramima)</td><td>3</td><td>2</td><td>0</td><td>0</td>\n",
    "    </tr>\n",
    "    <tr> \n",
    "        <td>Ugljeni hidrati (u gramima)</td><td>2</td><td>2</td><td>4</td><td>4</td>\n",
    "    </tr>\n",
    "    <tr> \n",
    "        <td>Masti (u gramima)</td><td>2</td><td>4</td><td>1</td><td>5</td>\n",
    "    </tr>\n",
    "    <tr> \n",
    "        <td>Cena (u dolarima)</td><td>0.50</td><td>0.20</td><td>0.30</td><td>0.8</td>\n",
    "    </tr>\n",
    "</table>"
   ]
  },
  {
   "cell_type": "markdown",
   "id": "0c6fb302",
   "metadata": {},
   "source": [
    "Režim ishrane koji Sara planira treba da podrži unos barem 500 kalorija uz 6 grama proteina, 10 grama ugljenih hidrata i 8 grama masti. Koje namirnice Sara treba da odabere tako da uštedi najviše novca?"
   ]
  },
  {
   "cell_type": "markdown",
   "id": "5a93277a",
   "metadata": {},
   "source": [
    "Zadatak izmodelovati i rešiti korišćenjem Pyomo biblioteke."
   ]
  },
  {
   "cell_type": "code",
   "execution_count": null,
   "id": "b3b3a6db",
   "metadata": {},
   "outputs": [],
   "source": []
  },
  {
   "cell_type": "code",
   "execution_count": 1,
   "id": "e5b8203c",
   "metadata": {},
   "outputs": [],
   "source": [
    "from pyomo.environ import *"
   ]
  },
  {
   "cell_type": "code",
   "execution_count": null,
   "id": "0c4f1d51",
   "metadata": {},
   "outputs": [],
   "source": []
  },
  {
   "cell_type": "code",
   "execution_count": null,
   "id": "bd075a1d",
   "metadata": {},
   "outputs": [],
   "source": []
  },
  {
   "cell_type": "code",
   "execution_count": null,
   "id": "b173a10f",
   "metadata": {},
   "outputs": [],
   "source": []
  },
  {
   "cell_type": "code",
   "execution_count": null,
   "id": "d1416afb",
   "metadata": {},
   "outputs": [],
   "source": []
  }
 ],
 "metadata": {
  "kernelspec": {
   "display_name": "Python 3",
   "language": "python",
   "name": "python3"
  },
  "language_info": {
   "codemirror_mode": {
    "name": "ipython",
    "version": 3
   },
   "file_extension": ".py",
   "mimetype": "text/x-python",
   "name": "python",
   "nbconvert_exporter": "python",
   "pygments_lexer": "ipython3",
   "version": "3.7.6"
  }
 },
 "nbformat": 4,
 "nbformat_minor": 5
}
